{
 "cells": [
  {
   "cell_type": "code",
   "execution_count": 1,
   "metadata": {},
   "outputs": [],
   "source": [
    "import argparse\n",
    "import json\n",
    "import math\n",
    "import os\n",
    "import random\n",
    "from time import time\n",
    "\n",
    "import numpy as np\n",
    "import pandas as pd\n",
    "from sklearn.metrics import f1_score\n",
    "import torch\n",
    "from torch.nn import CrossEntropyLoss, BCEWithLogitsLoss\n",
    "from torch.utils.data import DataLoader, RandomSampler\n",
    "from transformers import BertTokenizer, BertForSequenceClassification, BertConfig\n",
    "from transformers import AdamW, get_linear_schedule_with_warmup\n",
    "\n",
    "from dataset import (\n",
    "    collate_fn,\n",
    "    TURLColTypeColwiseDataset,\n",
    "    TURLColTypeTablewiseDataset,\n",
    "    TURLRelExtColwiseDataset,\n",
    "    TURLRelExtTablewiseDataset,\n",
    "    SatoCVColwiseDataset,\n",
    "    SatoCVTablewiseDataset,\n",
    ")\n",
    "\n",
    "from model import BertForMultiOutputClassification, BertMultiPairPooler\n",
    "from util import f1_score_multilabel\n"
   ]
  },
  {
   "cell_type": "code",
   "execution_count": 2,
   "metadata": {},
   "outputs": [],
   "source": [
    "    parser = argparse.ArgumentParser()\n",
    "    parser.add_argument(\n",
    "        \"--shortcut_name\",\n",
    "        default=\"bert-base-uncased\",\n",
    "        type=str,\n",
    "        help=\"Huggingface model shortcut name \",\n",
    "    )\n",
    "    parser.add_argument(\n",
    "        \"--max_length\",\n",
    "        default=128,\n",
    "        type=int,\n",
    "        help=\n",
    "        \"The maximum total input sequence length after tokenization. Sequences longer \"\n",
    "        \"than this will be truncated, sequences shorter will be padded.\",\n",
    "    )\n",
    "    parser.add_argument(\n",
    "        \"--batch_size\",\n",
    "        default=32,\n",
    "        type=int,\n",
    "        help=\"Batch size\",\n",
    "    )\n",
    "    parser.add_argument(\n",
    "        \"--epoch\",\n",
    "        default=30,\n",
    "        type=int,\n",
    "        help=\"Number of epochs for training\",\n",
    "    )\n",
    "    parser.add_argument(\n",
    "        \"--random_seed\",\n",
    "        default=4649,\n",
    "        type=int,\n",
    "        help=\"Random seed\",\n",
    "    )\n",
    "\n",
    "    parser.add_argument(\n",
    "        \"--num_classes\",\n",
    "        default=78,\n",
    "        type=int,\n",
    "        help=\"Number of classes\",\n",
    "    )\n",
    "    #TOCHECK\n",
    "    parser.add_argument(\"--multi_gpu\",\n",
    "                        action=\"store_true\",\n",
    "                        default=False,\n",
    "                        help=\"Use multiple GPU\")\n",
    "    #TODO\n",
    "    parser.add_argument(\"--fp16\",\n",
    "                        action=\"store_true\",\n",
    "                        default=False,\n",
    "                        help=\"Use FP16\")\n",
    "    parser.add_argument(\"--warmup\",\n",
    "                        type=float,\n",
    "                        default=0.,\n",
    "                        help=\"Warmup ratio\")\n",
    "    parser.add_argument(\"--lr\", type=float, default=5e-5, help=\"Learning rate\")\n",
    "    parser.add_argument(\"--tasks\",\n",
    "                        type=str,\n",
    "                        nargs=\"+\",\n",
    "                        default=[\"sato0\"],\n",
    "                        choices=[\n",
    "                            \"sato0\", \"sato1\", \"sato2\", \"sato3\", \"sato4\",\n",
    "                            \"msato0\", \"msato1\", \"msato2\", \"msato3\", \"msato4\",\n",
    "                            \"turl\", \"turl-re\"\n",
    "                        ],\n",
    "                        help=\"Task names}\")\n",
    "    parser.add_argument(\"--colpair\",\n",
    "                        action=\"store_true\",\n",
    "                        help=\"Use column pair embedding\")\n",
    "    parser.add_argument(\"--train_ratios\",\n",
    "                        type=str,\n",
    "                        nargs=\"+\",\n",
    "                        default=[],\n",
    "                        help=\"e.g., --train_ratios turl=0.8 turl-re=0.1\")\n",
    "    parser.add_argument(\"--from_scratch\",\n",
    "                        action=\"store_true\",\n",
    "                        help=\"Training from scratch\")\n",
    "    parser.add_argument(\"--single_col\",\n",
    "                        default=False,\n",
    "                        action=\"store_true\",\n",
    "                        help=\"Training with single column model\")\n",
    "\n",
    "    args = parser.parse_args([])\n",
    "    args.tasks = sorted(args.tasks)\n",
    "\n",
    "    task_num_class_dict = {\n",
    "        \"sato0\": 78,\n",
    "        \"sato1\": 78,\n",
    "        \"sato2\": 78,\n",
    "        \"sato3\": 78,\n",
    "        \"sato4\": 78,\n",
    "        \"msato0\": 78,\n",
    "        \"msato1\": 78,\n",
    "        \"msato2\": 78,\n",
    "        \"msato3\": 78,\n",
    "        \"msato4\": 78,\n",
    "        \"turl\": 255,\n",
    "        \"turl-re\": 121\n",
    "    }\n",
    "\n",
    "    train_ratio_dict = {}\n",
    "    num_classes_list = []\n",
    "    for task in args.tasks:\n",
    "        num_classes_list.append(task_num_class_dict[task])\n",
    "        # Default training ratio is ALL\n",
    "        train_ratio_dict[task] = 1.0\n",
    "\n",
    "    # Training ratio\n",
    "    for train_ratio in args.train_ratios:\n",
    "        task, ratio_str = train_ratio.split(\"=\")\n",
    "        ratio = float(ratio_str)\n",
    "        assert task in train_ratio_dict, \"Invalid task name: {}\".format(task)\n",
    "        assert 0 < ratio <= 1\n",
    "        train_ratio_dict[task] = ratio\n",
    "\n",
    "    # For tagname\n",
    "    train_ratio_str_list = []\n",
    "    for task in sorted(train_ratio_dict.keys()):\n",
    "        ratio = train_ratio_dict[task]\n",
    "        train_ratio_str_list.append(\"{}-{:.2f}\".format(task, ratio))"
   ]
  },
  {
   "cell_type": "code",
   "execution_count": 3,
   "metadata": {},
   "outputs": [],
   "source": [
    "device = torch.device('cpu')"
   ]
  },
  {
   "cell_type": "code",
   "execution_count": null,
   "metadata": {},
   "outputs": [],
   "source": []
  },
  {
   "cell_type": "code",
   "execution_count": 4,
   "metadata": {},
   "outputs": [],
   "source": [
    "    max_length = args.max_length\n",
    "    batch_size = args.batch_size\n",
    "    num_train_epochs = args.epoch\n",
    "\n",
    "    shortcut_name = args.shortcut_name"
   ]
  },
  {
   "cell_type": "code",
   "execution_count": 8,
   "metadata": {},
   "outputs": [
    {
     "data": {
      "text/plain": [
       "'bert-base-uncased'"
      ]
     },
     "execution_count": 8,
     "metadata": {},
     "output_type": "execute_result"
    }
   ],
   "source": [
    "shortcut_name "
   ]
  },
  {
   "cell_type": "code",
   "execution_count": 5,
   "metadata": {},
   "outputs": [],
   "source": [
    "dataset_cls = SatoCVColwiseDataset"
   ]
  },
  {
   "cell_type": "code",
   "execution_count": 6,
   "metadata": {},
   "outputs": [
    {
     "data": {
      "text/plain": [
       "1.0"
      ]
     },
     "execution_count": 6,
     "metadata": {},
     "output_type": "execute_result"
    }
   ],
   "source": [
    "train_ratio_dict[task]"
   ]
  },
  {
   "cell_type": "code",
   "execution_count": 16,
   "metadata": {},
   "outputs": [
    {
     "name": "stderr",
     "output_type": "stream",
     "text": [
      "Truncation was not explicitly activated but `max_length` is provided a specific value, please use `truncation=True` to explicitly truncate examples to max length. Defaulting to 'longest_first' truncation strategy. If you encode pairs of sequences (GLUE-style) with the tokenizer you can select this strategy more precisely by providing a specific strategy to `truncation`.\n"
     ]
    }
   ],
   "source": [
    "cv = int(task[-1])\n",
    "multicol_only = False\n",
    "tokenizer = BertTokenizer.from_pretrained(shortcut_name)\n",
    "train_ratio = train_ratio_dict[task]\n",
    "train_dataset = dataset_cls(cv=cv,\n",
    "                                        split=\"train\",\n",
    "                                        tokenizer=tokenizer,\n",
    "                                        max_length=max_length,\n",
    "                                        multicol_only=True,\n",
    "                                        train_ratio=train_ratio,\n",
    "                                        device=device,\n",
    "                                        base_dirpath=\"/data/zhihao/TU/doduo/data\",)"
   ]
  },
  {
   "cell_type": "code",
   "execution_count": 21,
   "metadata": {},
   "outputs": [
    {
     "name": "stderr",
     "output_type": "stream",
     "text": [
      "Truncation was not explicitly activated but `max_length` is provided a specific value, please use `truncation=True` to explicitly truncate examples to max length. Defaulting to 'longest_first' truncation strategy. If you encode pairs of sequences (GLUE-style) with the tokenizer you can select this strategy more precisely by providing a specific strategy to `truncation`.\n"
     ]
    }
   ],
   "source": [
    "cv = int(task[-1])\n",
    "multicol_only = False\n",
    "tokenizer = BertTokenizer.from_pretrained(shortcut_name)\n",
    "train_ratio = train_ratio_dict[task]\n",
    "train_dataset_single = dataset_cls(cv=cv,\n",
    "                                        split=\"train\",\n",
    "                                        tokenizer=tokenizer,\n",
    "                                        max_length=max_length,\n",
    "                                        multicol_only=False,\n",
    "                                        train_ratio=train_ratio,\n",
    "                                        device=device,\n",
    "                                        base_dirpath=\"/data/zhihao/TU/doduo/data\",)"
   ]
  },
  {
   "cell_type": "code",
   "execution_count": 86,
   "metadata": {},
   "outputs": [
    {
     "data": {
      "text/plain": [
       "PreTrainedTokenizer(name_or_path='bert-base-uncased', vocab_size=30522, model_max_len=512, is_fast=False, padding_side='right', truncation_side='right', special_tokens={'unk_token': '[UNK]', 'sep_token': '[SEP]', 'pad_token': '[PAD]', 'cls_token': '[CLS]', 'mask_token': '[MASK]'})"
      ]
     },
     "execution_count": 86,
     "metadata": {},
     "output_type": "execute_result"
    }
   ],
   "source": [
    "tokenizer"
   ]
  },
  {
   "cell_type": "code",
   "execution_count": 45,
   "metadata": {},
   "outputs": [
    {
     "data": {
      "text/plain": [
       "{'data': tensor([  101, 17765, 22818,  2177,  6207, 10598,  6373,   102]),\n",
       " 'label': tensor([19])}"
      ]
     },
     "execution_count": 45,
     "metadata": {},
     "output_type": "execute_result"
    }
   ],
   "source": [
    "train_dataset_single[0]"
   ]
  },
  {
   "cell_type": "code",
   "execution_count": 46,
   "metadata": {},
   "outputs": [],
   "source": [
    "length_single = []\n",
    "for i in range(len(train_dataset_single)):\n",
    "    length_single.append(len(train_dataset_single[i]['data']))"
   ]
  },
  {
   "cell_type": "code",
   "execution_count": 47,
   "metadata": {},
   "outputs": [
    {
     "data": {
      "text/plain": [
       "130"
      ]
     },
     "execution_count": 47,
     "metadata": {},
     "output_type": "execute_result"
    }
   ],
   "source": [
    "max(length_single)"
   ]
  },
  {
   "cell_type": "code",
   "execution_count": 20,
   "metadata": {},
   "outputs": [
    {
     "data": {
      "text/plain": [
       "46502"
      ]
     },
     "execution_count": 20,
     "metadata": {},
     "output_type": "execute_result"
    }
   ],
   "source": [
    "len(train_dataset)"
   ]
  },
  {
   "cell_type": "code",
   "execution_count": 23,
   "metadata": {},
   "outputs": [
    {
     "data": {
      "text/plain": [
       "76293"
      ]
     },
     "execution_count": 23,
     "metadata": {},
     "output_type": "execute_result"
    }
   ],
   "source": [
    "len(train_dataset_single)"
   ]
  },
  {
   "cell_type": "code",
   "execution_count": 24,
   "metadata": {},
   "outputs": [],
   "source": [
    "base_dirpath = \"/data/zhihao/TU/doduo/data\"\n",
    "basename = \"sato_cv_{}.csv\"\n",
    "filepath = os.path.join(base_dirpath, basename.format(0))\n",
    "df = pd.read_csv(filepath)"
   ]
  },
  {
   "cell_type": "code",
   "execution_count": 25,
   "metadata": {},
   "outputs": [
    {
     "data": {
      "text/html": [
       "<div>\n",
       "<style scoped>\n",
       "    .dataframe tbody tr th:only-of-type {\n",
       "        vertical-align: middle;\n",
       "    }\n",
       "\n",
       "    .dataframe tbody tr th {\n",
       "        vertical-align: top;\n",
       "    }\n",
       "\n",
       "    .dataframe thead th {\n",
       "        text-align: right;\n",
       "    }\n",
       "</style>\n",
       "<table border=\"1\" class=\"dataframe\">\n",
       "  <thead>\n",
       "    <tr style=\"text-align: right;\">\n",
       "      <th></th>\n",
       "      <th>table_id</th>\n",
       "      <th>col_idx</th>\n",
       "      <th>class</th>\n",
       "      <th>class_id</th>\n",
       "      <th>data</th>\n",
       "    </tr>\n",
       "  </thead>\n",
       "  <tbody>\n",
       "    <tr>\n",
       "      <th>0</th>\n",
       "      <td>webtables1/K0/0_1438042986022.41;warc;CC-MAIN-...</td>\n",
       "      <td>0</td>\n",
       "      <td>name</td>\n",
       "      <td>46</td>\n",
       "      <td>Cleanliness Structural</td>\n",
       "    </tr>\n",
       "    <tr>\n",
       "      <th>1</th>\n",
       "      <td>webtables1/K0/0_1438042986022.41;warc;CC-MAIN-...</td>\n",
       "      <td>0</td>\n",
       "      <td>rank</td>\n",
       "      <td>60</td>\n",
       "      <td>1.0 2.0 3.0 4.0 5.0 6.0 7.0 8.0 9.0 10.0 11.0</td>\n",
       "    </tr>\n",
       "    <tr>\n",
       "      <th>2</th>\n",
       "      <td>webtables1/K0/0_1438042986022.41;warc;CC-MAIN-...</td>\n",
       "      <td>0</td>\n",
       "      <td>city</td>\n",
       "      <td>12</td>\n",
       "      <td>Wiesbaden, DE Oldenburg, DE Saarbrücken, DE Fr...</td>\n",
       "    </tr>\n",
       "    <tr>\n",
       "      <th>3</th>\n",
       "      <td>webtables1/K0/0_1438042986022.41;warc;CC-MAIN-...</td>\n",
       "      <td>1</td>\n",
       "      <td>rank</td>\n",
       "      <td>60</td>\n",
       "      <td>368 1049 156 1827 859 9999 162 869 15 8</td>\n",
       "    </tr>\n",
       "    <tr>\n",
       "      <th>4</th>\n",
       "      <td>webtables1/K0/0_1438042986022.41;warc;CC-MAIN-...</td>\n",
       "      <td>0</td>\n",
       "      <td>year</td>\n",
       "      <td>77</td>\n",
       "      <td>2006 2006 2006 2006</td>\n",
       "    </tr>\n",
       "    <tr>\n",
       "      <th>...</th>\n",
       "      <td>...</td>\n",
       "      <td>...</td>\n",
       "      <td>...</td>\n",
       "      <td>...</td>\n",
       "      <td>...</td>\n",
       "    </tr>\n",
       "    <tr>\n",
       "      <th>23815</th>\n",
       "      <td>webtables2/K0/0_1438042987171.38;warc;CC-MAIN-...</td>\n",
       "      <td>1</td>\n",
       "      <td>location</td>\n",
       "      <td>44</td>\n",
       "      <td>Work at Home Work at Home Work at Home</td>\n",
       "    </tr>\n",
       "    <tr>\n",
       "      <th>23816</th>\n",
       "      <td>webtables2/K0/0_1438042987171.38;warc;CC-MAIN-...</td>\n",
       "      <td>0</td>\n",
       "      <td>team</td>\n",
       "      <td>73</td>\n",
       "      <td>18. Scunthorpe 19. Sheff Utd 20. Shrewsbury 21...</td>\n",
       "    </tr>\n",
       "    <tr>\n",
       "      <th>23817</th>\n",
       "      <td>webtables2/K0/0_1438042987171.38;warc;CC-MAIN-...</td>\n",
       "      <td>0</td>\n",
       "      <td>rank</td>\n",
       "      <td>60</td>\n",
       "      <td>1 2 3 4 4 4 4 4 4 4 4 4 4 4 4 4 4 4 4 4 4 4 4 ...</td>\n",
       "    </tr>\n",
       "    <tr>\n",
       "      <th>23818</th>\n",
       "      <td>webtables2/K0/0_1438042987171.38;warc;CC-MAIN-...</td>\n",
       "      <td>1</td>\n",
       "      <td>name</td>\n",
       "      <td>46</td>\n",
       "      <td>R. Abbott B. Herzog J. True R. M C. Crawford j...</td>\n",
       "    </tr>\n",
       "    <tr>\n",
       "      <th>23819</th>\n",
       "      <td>webtables2/K0/0_1438042987171.38;warc;CC-MAIN-...</td>\n",
       "      <td>0</td>\n",
       "      <td>artist</td>\n",
       "      <td>6</td>\n",
       "      <td>Rogue Wave Rogue Wave Rogue Wave Rogue Wave Ro...</td>\n",
       "    </tr>\n",
       "  </tbody>\n",
       "</table>\n",
       "<p>23820 rows × 5 columns</p>\n",
       "</div>"
      ],
      "text/plain": [
       "                                                table_id  col_idx     class  \\\n",
       "0      webtables1/K0/0_1438042986022.41;warc;CC-MAIN-...        0      name   \n",
       "1      webtables1/K0/0_1438042986022.41;warc;CC-MAIN-...        0      rank   \n",
       "2      webtables1/K0/0_1438042986022.41;warc;CC-MAIN-...        0      city   \n",
       "3      webtables1/K0/0_1438042986022.41;warc;CC-MAIN-...        1      rank   \n",
       "4      webtables1/K0/0_1438042986022.41;warc;CC-MAIN-...        0      year   \n",
       "...                                                  ...      ...       ...   \n",
       "23815  webtables2/K0/0_1438042987171.38;warc;CC-MAIN-...        1  location   \n",
       "23816  webtables2/K0/0_1438042987171.38;warc;CC-MAIN-...        0      team   \n",
       "23817  webtables2/K0/0_1438042987171.38;warc;CC-MAIN-...        0      rank   \n",
       "23818  webtables2/K0/0_1438042987171.38;warc;CC-MAIN-...        1      name   \n",
       "23819  webtables2/K0/0_1438042987171.38;warc;CC-MAIN-...        0    artist   \n",
       "\n",
       "       class_id                                               data  \n",
       "0            46                             Cleanliness Structural  \n",
       "1            60      1.0 2.0 3.0 4.0 5.0 6.0 7.0 8.0 9.0 10.0 11.0  \n",
       "2            12  Wiesbaden, DE Oldenburg, DE Saarbrücken, DE Fr...  \n",
       "3            60            368 1049 156 1827 859 9999 162 869 15 8  \n",
       "4            77                                2006 2006 2006 2006  \n",
       "...         ...                                                ...  \n",
       "23815        44             Work at Home Work at Home Work at Home  \n",
       "23816        73  18. Scunthorpe 19. Sheff Utd 20. Shrewsbury 21...  \n",
       "23817        60  1 2 3 4 4 4 4 4 4 4 4 4 4 4 4 4 4 4 4 4 4 4 4 ...  \n",
       "23818        46  R. Abbott B. Herzog J. True R. M C. Crawford j...  \n",
       "23819         6  Rogue Wave Rogue Wave Rogue Wave Rogue Wave Ro...  \n",
       "\n",
       "[23820 rows x 5 columns]"
      ]
     },
     "execution_count": 25,
     "metadata": {},
     "output_type": "execute_result"
    }
   ],
   "source": [
    "df"
   ]
  },
  {
   "cell_type": "code",
   "execution_count": 31,
   "metadata": {},
   "outputs": [
    {
     "data": {
      "text/plain": [
       "'1.0 2.0 3.0 4.0 5.0 6.0 7.0 8.0 9.0 10.0 11.0'"
      ]
     },
     "execution_count": 31,
     "metadata": {},
     "output_type": "execute_result"
    }
   ],
   "source": [
    "df.loc[[1], ['data']].values[0][0]"
   ]
  },
  {
   "cell_type": "code",
   "execution_count": 38,
   "metadata": {},
   "outputs": [
    {
     "data": {
      "text/plain": [
       "array(['name', 'rank', 'city', 'year', 'status', 'age', 'club', 'class',\n",
       "       'team', 'result', 'company', 'symbol', 'artist', 'location',\n",
       "       'notes', 'weight', 'type', 'day', 'state', 'description',\n",
       "       'address', 'category', 'position', 'person', 'code', 'plays',\n",
       "       'gender', 'service', 'album', 'duration', 'format', 'area',\n",
       "       'range', 'elevation', 'currency', 'credit', 'depth', 'fileSize',\n",
       "       'component', 'country', 'county', 'industry', 'product',\n",
       "       'teamName', 'birthDate', 'sex', 'jockey', 'owner', 'publisher',\n",
       "       'language', 'nationality', 'affiliation', 'origin', 'creator',\n",
       "       'order', 'affiliate', 'collection', 'family', 'capacity',\n",
       "       'classification', 'grades', 'birthPlace', 'requirement', 'species',\n",
       "       'ranking', 'region', 'isbn', 'genre', 'brand', 'religion',\n",
       "       'manufacturer', 'continent', 'command', 'sales', 'operator',\n",
       "       'education', 'director', 'organisation'], dtype=object)"
      ]
     },
     "execution_count": 38,
     "metadata": {},
     "output_type": "execute_result"
    }
   ],
   "source": [
    "df['class'].unique()"
   ]
  },
  {
   "cell_type": "code",
   "execution_count": 128,
   "metadata": {},
   "outputs": [
    {
     "data": {
      "text/html": [
       "<div>\n",
       "<style scoped>\n",
       "    .dataframe tbody tr th:only-of-type {\n",
       "        vertical-align: middle;\n",
       "    }\n",
       "\n",
       "    .dataframe tbody tr th {\n",
       "        vertical-align: top;\n",
       "    }\n",
       "\n",
       "    .dataframe thead th {\n",
       "        text-align: right;\n",
       "    }\n",
       "</style>\n",
       "<table border=\"1\" class=\"dataframe\">\n",
       "  <thead>\n",
       "    <tr style=\"text-align: right;\">\n",
       "      <th></th>\n",
       "      <th>table_id</th>\n",
       "      <th>col_idx</th>\n",
       "      <th>class</th>\n",
       "      <th>class_id</th>\n",
       "      <th>data</th>\n",
       "    </tr>\n",
       "  </thead>\n",
       "  <tbody>\n",
       "    <tr>\n",
       "      <th>0</th>\n",
       "      <td>webtables1/K1_multi-col/0_1438042986022.41;war...</td>\n",
       "      <td>0</td>\n",
       "      <td>name</td>\n",
       "      <td>46</td>\n",
       "      <td>Nicholas J Brunelli Kevin Doak Scott C Greenwo...</td>\n",
       "    </tr>\n",
       "    <tr>\n",
       "      <th>1</th>\n",
       "      <td>webtables1/K1_multi-col/0_1438042986022.41;war...</td>\n",
       "      <td>1</td>\n",
       "      <td>age</td>\n",
       "      <td>3</td>\n",
       "      <td>30 30 34 30 30 30 31 32 33 34</td>\n",
       "    </tr>\n",
       "    <tr>\n",
       "      <th>2</th>\n",
       "      <td>webtables1/K1_multi-col/0_1438042986022.41;war...</td>\n",
       "      <td>2</td>\n",
       "      <td>club</td>\n",
       "      <td>15</td>\n",
       "      <td>NCMS MICH TOC UNAT CAT SCMC TOC SCSC MGM SKY</td>\n",
       "    </tr>\n",
       "    <tr>\n",
       "      <th>3</th>\n",
       "      <td>webtables1/K1_multi-col/0_1438042986022.41;war...</td>\n",
       "      <td>1</td>\n",
       "      <td>format</td>\n",
       "      <td>36</td>\n",
       "      <td>Adobe PDF Microsoft Powerpoint</td>\n",
       "    </tr>\n",
       "    <tr>\n",
       "      <th>4</th>\n",
       "      <td>webtables1/K1_multi-col/0_1438042986022.41;war...</td>\n",
       "      <td>0</td>\n",
       "      <td>name</td>\n",
       "      <td>46</td>\n",
       "      <td>Colombian Soul (Patric la Funk New School Remi...</td>\n",
       "    </tr>\n",
       "    <tr>\n",
       "      <th>...</th>\n",
       "      <td>...</td>\n",
       "      <td>...</td>\n",
       "      <td>...</td>\n",
       "      <td>...</td>\n",
       "      <td>...</td>\n",
       "    </tr>\n",
       "    <tr>\n",
       "      <th>14722</th>\n",
       "      <td>webtables2/K4_multi-col/0_1438042987171.38;war...</td>\n",
       "      <td>0</td>\n",
       "      <td>age</td>\n",
       "      <td>3</td>\n",
       "      <td>0/3M 3/6M 6/9M</td>\n",
       "    </tr>\n",
       "    <tr>\n",
       "      <th>14723</th>\n",
       "      <td>webtables2/K4_multi-col/0_1438042987171.38;war...</td>\n",
       "      <td>1</td>\n",
       "      <td>weight</td>\n",
       "      <td>76</td>\n",
       "      <td>up to 12 lbs 12-17 lbs 17-20 lbs</td>\n",
       "    </tr>\n",
       "    <tr>\n",
       "      <th>14724</th>\n",
       "      <td>webtables2/K4_multi-col/0_1438042987171.38;war...</td>\n",
       "      <td>2</td>\n",
       "      <td>weight</td>\n",
       "      <td>76</td>\n",
       "      <td>up to 5.4 kgs 5.4-7.7 kgs 7.7-9.1 kgs</td>\n",
       "    </tr>\n",
       "    <tr>\n",
       "      <th>14725</th>\n",
       "      <td>webtables2/K4_multi-col/0_1438042987171.38;war...</td>\n",
       "      <td>0</td>\n",
       "      <td>name</td>\n",
       "      <td>46</td>\n",
       "      <td>Salih Metin Ecevit Ibrahim Yazici S. Kamil Yaz...</td>\n",
       "    </tr>\n",
       "    <tr>\n",
       "      <th>14726</th>\n",
       "      <td>webtables2/K4_multi-col/0_1438042987171.38;war...</td>\n",
       "      <td>1</td>\n",
       "      <td>age</td>\n",
       "      <td>3</td>\n",
       "      <td>69 66 86 78 83</td>\n",
       "    </tr>\n",
       "  </tbody>\n",
       "</table>\n",
       "<p>58357 rows × 5 columns</p>\n",
       "</div>"
      ],
      "text/plain": [
       "                                                table_id  col_idx   class  \\\n",
       "0      webtables1/K1_multi-col/0_1438042986022.41;war...        0    name   \n",
       "1      webtables1/K1_multi-col/0_1438042986022.41;war...        1     age   \n",
       "2      webtables1/K1_multi-col/0_1438042986022.41;war...        2    club   \n",
       "3      webtables1/K1_multi-col/0_1438042986022.41;war...        1  format   \n",
       "4      webtables1/K1_multi-col/0_1438042986022.41;war...        0    name   \n",
       "...                                                  ...      ...     ...   \n",
       "14722  webtables2/K4_multi-col/0_1438042987171.38;war...        0     age   \n",
       "14723  webtables2/K4_multi-col/0_1438042987171.38;war...        1  weight   \n",
       "14724  webtables2/K4_multi-col/0_1438042987171.38;war...        2  weight   \n",
       "14725  webtables2/K4_multi-col/0_1438042987171.38;war...        0    name   \n",
       "14726  webtables2/K4_multi-col/0_1438042987171.38;war...        1     age   \n",
       "\n",
       "       class_id                                               data  \n",
       "0            46  Nicholas J Brunelli Kevin Doak Scott C Greenwo...  \n",
       "1             3                      30 30 34 30 30 30 31 32 33 34  \n",
       "2            15       NCMS MICH TOC UNAT CAT SCMC TOC SCSC MGM SKY  \n",
       "3            36                     Adobe PDF Microsoft Powerpoint  \n",
       "4            46  Colombian Soul (Patric la Funk New School Remi...  \n",
       "...         ...                                                ...  \n",
       "14722         3                                     0/3M 3/6M 6/9M  \n",
       "14723        76                   up to 12 lbs 12-17 lbs 17-20 lbs  \n",
       "14724        76              up to 5.4 kgs 5.4-7.7 kgs 7.7-9.1 kgs  \n",
       "14725        46  Salih Metin Ecevit Ibrahim Yazici S. Kamil Yaz...  \n",
       "14726         3                                     69 66 86 78 83  \n",
       "\n",
       "[58357 rows x 5 columns]"
      ]
     },
     "execution_count": 128,
     "metadata": {},
     "output_type": "execute_result"
    }
   ],
   "source": [
    "df"
   ]
  },
  {
   "cell_type": "code",
   "execution_count": 40,
   "metadata": {},
   "outputs": [],
   "source": [
    "for i, (index, group_df) in enumerate(df.groupby(\"table_id\")):\n",
    "    break"
   ]
  },
  {
   "cell_type": "code",
   "execution_count": 127,
   "metadata": {},
   "outputs": [
    {
     "data": {
      "text/plain": [
       "0          name\n",
       "1           age\n",
       "2          club\n",
       "3        format\n",
       "4          name\n",
       "          ...  \n",
       "14722       age\n",
       "14723    weight\n",
       "14724    weight\n",
       "14725      name\n",
       "14726       age\n",
       "Name: class, Length: 58357, dtype: object"
      ]
     },
     "execution_count": 127,
     "metadata": {},
     "output_type": "execute_result"
    }
   ],
   "source": [
    "df[\"class\"]"
   ]
  },
  {
   "cell_type": "code",
   "execution_count": 41,
   "metadata": {},
   "outputs": [
    {
     "data": {
      "text/html": [
       "<div>\n",
       "<style scoped>\n",
       "    .dataframe tbody tr th:only-of-type {\n",
       "        vertical-align: middle;\n",
       "    }\n",
       "\n",
       "    .dataframe tbody tr th {\n",
       "        vertical-align: top;\n",
       "    }\n",
       "\n",
       "    .dataframe thead th {\n",
       "        text-align: right;\n",
       "    }\n",
       "</style>\n",
       "<table border=\"1\" class=\"dataframe\">\n",
       "  <thead>\n",
       "    <tr style=\"text-align: right;\">\n",
       "      <th></th>\n",
       "      <th>table_id</th>\n",
       "      <th>col_idx</th>\n",
       "      <th>class</th>\n",
       "      <th>class_id</th>\n",
       "      <th>data</th>\n",
       "    </tr>\n",
       "  </thead>\n",
       "  <tbody>\n",
       "    <tr>\n",
       "      <th>3400</th>\n",
       "      <td>webtables1/K0/0_1438042986022.41;warc;CC-MAIN-...</td>\n",
       "      <td>0</td>\n",
       "      <td>country</td>\n",
       "      <td>22</td>\n",
       "      <td>United States — Alabama — Alaska — Arizona — A...</td>\n",
       "    </tr>\n",
       "  </tbody>\n",
       "</table>\n",
       "</div>"
      ],
      "text/plain": [
       "                                               table_id  col_idx    class  \\\n",
       "3400  webtables1/K0/0_1438042986022.41;warc;CC-MAIN-...        0  country   \n",
       "\n",
       "      class_id                                               data  \n",
       "3400        22  United States — Alabama — Alaska — Arizona — A...  "
      ]
     },
     "execution_count": 41,
     "metadata": {},
     "output_type": "execute_result"
    }
   ],
   "source": [
    "group_df"
   ]
  },
  {
   "cell_type": "code",
   "execution_count": 137,
   "metadata": {},
   "outputs": [
    {
     "data": {
      "text/plain": [
       "<Axes: ylabel='Count'>"
      ]
     },
     "execution_count": 137,
     "metadata": {},
     "output_type": "execute_result"
    },
    {
     "data": {
      "image/png": "[encoded data removed]",
      "text/plain": [
       "<Figure size 432x288 with 1 Axes>"
      ]
     },
     "metadata": {
      "needs_background": "light"
     },
     "output_type": "display_data"
    }
   ],
   "source": [
    "base_dirpath = \"/data/zhihao/TU/doduo/data\"\n",
    "basename = \"msato_cv_{}.csv\"\n",
    "df_list = []\n",
    "for i in range(5):\n",
    "    filepath = os.path.join(base_dirpath, basename.format(i))\n",
    "    df_list.append(pd.read_csv(filepath))\n",
    "df = pd.concat(df_list, axis=0)\n",
    "df_group = df.groupby(\"table_id\")\n",
    "column_num = []\n",
    "for i, (index, group_df) in enumerate(df_group):\n",
    "    column_num.append(len(group_df))\n",
    "sns.histplot(column_num)"
   ]
  },
  {
   "cell_type": "code",
   "execution_count": 138,
   "metadata": {},
   "outputs": [
    {
     "data": {
      "text/html": [
       "<div>\n",
       "<style scoped>\n",
       "    .dataframe tbody tr th:only-of-type {\n",
       "        vertical-align: middle;\n",
       "    }\n",
       "\n",
       "    .dataframe tbody tr th {\n",
       "        vertical-align: top;\n",
       "    }\n",
       "\n",
       "    .dataframe thead th {\n",
       "        text-align: right;\n",
       "    }\n",
       "</style>\n",
       "<table border=\"1\" class=\"dataframe\">\n",
       "  <thead>\n",
       "    <tr style=\"text-align: right;\">\n",
       "      <th></th>\n",
       "      <th>table_id</th>\n",
       "      <th>col_idx</th>\n",
       "      <th>class</th>\n",
       "      <th>class_id</th>\n",
       "      <th>data</th>\n",
       "    </tr>\n",
       "  </thead>\n",
       "  <tbody>\n",
       "    <tr>\n",
       "      <th>0</th>\n",
       "      <td>webtables1/K0_multi-col/0_1438042986022.41;war...</td>\n",
       "      <td>0</td>\n",
       "      <td>city</td>\n",
       "      <td>12</td>\n",
       "      <td>Vancouver Victoria Edmonton Urbana Toronto Ottawa</td>\n",
       "    </tr>\n",
       "    <tr>\n",
       "      <th>1</th>\n",
       "      <td>webtables1/K0_multi-col/0_1438042986022.41;war...</td>\n",
       "      <td>1</td>\n",
       "      <td>state</td>\n",
       "      <td>70</td>\n",
       "      <td>BC BC AB IL ON ON</td>\n",
       "    </tr>\n",
       "    <tr>\n",
       "      <th>2</th>\n",
       "      <td>webtables1/K0_multi-col/0_1438042986022.41;war...</td>\n",
       "      <td>0</td>\n",
       "      <td>type</td>\n",
       "      <td>75</td>\n",
       "      <td>Windows account Service account</td>\n",
       "    </tr>\n",
       "    <tr>\n",
       "      <th>3</th>\n",
       "      <td>webtables1/K0_multi-col/0_1438042986022.41;war...</td>\n",
       "      <td>1</td>\n",
       "      <td>description</td>\n",
       "      <td>29</td>\n",
       "      <td>You must log on to the Web server computer wit...</td>\n",
       "    </tr>\n",
       "    <tr>\n",
       "      <th>4</th>\n",
       "      <td>webtables1/K0_multi-col/0_1438042986022.41;war...</td>\n",
       "      <td>0</td>\n",
       "      <td>name</td>\n",
       "      <td>46</td>\n",
       "      <td>Name ArkInventory-r38734-nolib ArkInventory-r3...</td>\n",
       "    </tr>\n",
       "    <tr>\n",
       "      <th>...</th>\n",
       "      <td>...</td>\n",
       "      <td>...</td>\n",
       "      <td>...</td>\n",
       "      <td>...</td>\n",
       "      <td>...</td>\n",
       "    </tr>\n",
       "    <tr>\n",
       "      <th>14722</th>\n",
       "      <td>webtables2/K4_multi-col/0_1438042987171.38;war...</td>\n",
       "      <td>0</td>\n",
       "      <td>age</td>\n",
       "      <td>3</td>\n",
       "      <td>0/3M 3/6M 6/9M</td>\n",
       "    </tr>\n",
       "    <tr>\n",
       "      <th>14723</th>\n",
       "      <td>webtables2/K4_multi-col/0_1438042987171.38;war...</td>\n",
       "      <td>1</td>\n",
       "      <td>weight</td>\n",
       "      <td>76</td>\n",
       "      <td>up to 12 lbs 12-17 lbs 17-20 lbs</td>\n",
       "    </tr>\n",
       "    <tr>\n",
       "      <th>14724</th>\n",
       "      <td>webtables2/K4_multi-col/0_1438042987171.38;war...</td>\n",
       "      <td>2</td>\n",
       "      <td>weight</td>\n",
       "      <td>76</td>\n",
       "      <td>up to 5.4 kgs 5.4-7.7 kgs 7.7-9.1 kgs</td>\n",
       "    </tr>\n",
       "    <tr>\n",
       "      <th>14725</th>\n",
       "      <td>webtables2/K4_multi-col/0_1438042987171.38;war...</td>\n",
       "      <td>0</td>\n",
       "      <td>name</td>\n",
       "      <td>46</td>\n",
       "      <td>Salih Metin Ecevit Ibrahim Yazici S. Kamil Yaz...</td>\n",
       "    </tr>\n",
       "    <tr>\n",
       "      <th>14726</th>\n",
       "      <td>webtables2/K4_multi-col/0_1438042987171.38;war...</td>\n",
       "      <td>1</td>\n",
       "      <td>age</td>\n",
       "      <td>3</td>\n",
       "      <td>69 66 86 78 83</td>\n",
       "    </tr>\n",
       "  </tbody>\n",
       "</table>\n",
       "<p>72892 rows × 5 columns</p>\n",
       "</div>"
      ],
      "text/plain": [
       "                                                table_id  col_idx  \\\n",
       "0      webtables1/K0_multi-col/0_1438042986022.41;war...        0   \n",
       "1      webtables1/K0_multi-col/0_1438042986022.41;war...        1   \n",
       "2      webtables1/K0_multi-col/0_1438042986022.41;war...        0   \n",
       "3      webtables1/K0_multi-col/0_1438042986022.41;war...        1   \n",
       "4      webtables1/K0_multi-col/0_1438042986022.41;war...        0   \n",
       "...                                                  ...      ...   \n",
       "14722  webtables2/K4_multi-col/0_1438042987171.38;war...        0   \n",
       "14723  webtables2/K4_multi-col/0_1438042987171.38;war...        1   \n",
       "14724  webtables2/K4_multi-col/0_1438042987171.38;war...        2   \n",
       "14725  webtables2/K4_multi-col/0_1438042987171.38;war...        0   \n",
       "14726  webtables2/K4_multi-col/0_1438042987171.38;war...        1   \n",
       "\n",
       "             class  class_id  \\\n",
       "0             city        12   \n",
       "1            state        70   \n",
       "2             type        75   \n",
       "3      description        29   \n",
       "4             name        46   \n",
       "...            ...       ...   \n",
       "14722          age         3   \n",
       "14723       weight        76   \n",
       "14724       weight        76   \n",
       "14725         name        46   \n",
       "14726          age         3   \n",
       "\n",
       "                                                    data  \n",
       "0      Vancouver Victoria Edmonton Urbana Toronto Ottawa  \n",
       "1                                      BC BC AB IL ON ON  \n",
       "2                        Windows account Service account  \n",
       "3      You must log on to the Web server computer wit...  \n",
       "4      Name ArkInventory-r38734-nolib ArkInventory-r3...  \n",
       "...                                                  ...  \n",
       "14722                                     0/3M 3/6M 6/9M  \n",
       "14723                   up to 12 lbs 12-17 lbs 17-20 lbs  \n",
       "14724              up to 5.4 kgs 5.4-7.7 kgs 7.7-9.1 kgs  \n",
       "14725  Salih Metin Ecevit Ibrahim Yazici S. Kamil Yaz...  \n",
       "14726                                     69 66 86 78 83  \n",
       "\n",
       "[72892 rows x 5 columns]"
      ]
     },
     "execution_count": 138,
     "metadata": {},
     "output_type": "execute_result"
    }
   ],
   "source": [
    "df"
   ]
  },
  {
   "cell_type": "code",
   "execution_count": 214,
   "metadata": {},
   "outputs": [],
   "source": [
    "base_dirpath = \"/data/zhihao/TU/doduo/data\"\n",
    "basename = \"sato_cv_{}.csv\"\n",
    "df_list = []\n",
    "\n",
    "filepath = os.path.join(base_dirpath, basename.format(0))\n",
    "df_test = pd.read_csv(filepath)\n",
    "\n",
    "df_group_test = df_test.groupby(\"table_id\")"
   ]
  },
  {
   "cell_type": "code",
   "execution_count": 140,
   "metadata": {},
   "outputs": [
    {
     "data": {
      "text/plain": [
       "<Axes: ylabel='Count'>"
      ]
     },
     "execution_count": 140,
     "metadata": {},
     "output_type": "execute_result"
    },
    {
     "data": {
      "image/png": "[encoded data removed]",
      "text/plain": [
       "<Figure size 432x288 with 1 Axes>"
      ]
     },
     "metadata": {
      "needs_background": "light"
     },
     "output_type": "display_data"
    }
   ],
   "source": [
    "base_dirpath = \"/data/zhihao/TU/doduo/data\"\n",
    "basename = \"sato_cv_{}.csv\"\n",
    "df_list = []\n",
    "for i in range(5):\n",
    "    filepath = os.path.join(base_dirpath, basename.format(i))\n",
    "    df_list.append(pd.read_csv(filepath))\n",
    "df = pd.concat(df_list, axis=0)\n",
    "df_group = df.groupby(\"table_id\")\n",
    "column_num = []\n",
    "for i, (index, group_df) in enumerate(df_group):\n",
    "    column_num.append(len(group_df))\n",
    "sns.histplot(column_num)"
   ]
  },
  {
   "cell_type": "code",
   "execution_count": 150,
   "metadata": {},
   "outputs": [
    {
     "data": {
      "text/plain": [
       "0       841\n",
       "1        26\n",
       "2       198\n",
       "3      7179\n",
       "4      1525\n",
       "      ...  \n",
       "73    10373\n",
       "74      243\n",
       "75     6625\n",
       "76     3093\n",
       "77     5349\n",
       "Name: class_id, Length: 78, dtype: int64"
      ]
     },
     "execution_count": 150,
     "metadata": {},
     "output_type": "execute_result"
    }
   ],
   "source": [
    "# calculate frequency of each class\n",
    "df[\"class_id\"].value_counts().sort_index()"
   ]
  },
  {
   "cell_type": "code",
   "execution_count": 155,
   "metadata": {},
   "outputs": [
    {
     "data": {
      "text/plain": [
       "<Axes: >"
      ]
     },
     "execution_count": 155,
     "metadata": {},
     "output_type": "execute_result"
    },
    {
     "data": {
      "image/png": "[encoded data removed]",
      "text/plain": [
       "<Figure size 432x288 with 1 Axes>"
      ]
     },
     "metadata": {
      "needs_background": "light"
     },
     "output_type": "display_data"
    }
   ],
   "source": [
    "class_freq = df[\"class_id\"].value_counts().sort_index().values/len(df)\n",
    "sns.barplot(x=np.arange(len(class_freq)), y=class_freq)"
   ]
  },
  {
   "cell_type": "code",
   "execution_count": 132,
   "metadata": {},
   "outputs": [
    {
     "data": {
      "text/html": [
       "<div>\n",
       "<style scoped>\n",
       "    .dataframe tbody tr th:only-of-type {\n",
       "        vertical-align: middle;\n",
       "    }\n",
       "\n",
       "    .dataframe tbody tr th {\n",
       "        vertical-align: top;\n",
       "    }\n",
       "\n",
       "    .dataframe thead th {\n",
       "        text-align: right;\n",
       "    }\n",
       "</style>\n",
       "<table border=\"1\" class=\"dataframe\">\n",
       "  <thead>\n",
       "    <tr style=\"text-align: right;\">\n",
       "      <th></th>\n",
       "      <th>table_id</th>\n",
       "      <th>col_idx</th>\n",
       "      <th>class</th>\n",
       "      <th>class_id</th>\n",
       "      <th>data</th>\n",
       "    </tr>\n",
       "  </thead>\n",
       "  <tbody>\n",
       "    <tr>\n",
       "      <th>0</th>\n",
       "      <td>webtables1/K0/0_1438042986022.41;warc;CC-MAIN-...</td>\n",
       "      <td>0</td>\n",
       "      <td>name</td>\n",
       "      <td>46</td>\n",
       "      <td>Cleanliness Structural</td>\n",
       "    </tr>\n",
       "    <tr>\n",
       "      <th>1</th>\n",
       "      <td>webtables1/K0/0_1438042986022.41;warc;CC-MAIN-...</td>\n",
       "      <td>0</td>\n",
       "      <td>rank</td>\n",
       "      <td>60</td>\n",
       "      <td>1.0 2.0 3.0 4.0 5.0 6.0 7.0 8.0 9.0 10.0 11.0</td>\n",
       "    </tr>\n",
       "    <tr>\n",
       "      <th>2</th>\n",
       "      <td>webtables1/K0/0_1438042986022.41;warc;CC-MAIN-...</td>\n",
       "      <td>0</td>\n",
       "      <td>city</td>\n",
       "      <td>12</td>\n",
       "      <td>Wiesbaden, DE Oldenburg, DE Saarbrücken, DE Fr...</td>\n",
       "    </tr>\n",
       "    <tr>\n",
       "      <th>3</th>\n",
       "      <td>webtables1/K0/0_1438042986022.41;warc;CC-MAIN-...</td>\n",
       "      <td>1</td>\n",
       "      <td>rank</td>\n",
       "      <td>60</td>\n",
       "      <td>368 1049 156 1827 859 9999 162 869 15 8</td>\n",
       "    </tr>\n",
       "    <tr>\n",
       "      <th>4</th>\n",
       "      <td>webtables1/K0/0_1438042986022.41;warc;CC-MAIN-...</td>\n",
       "      <td>0</td>\n",
       "      <td>year</td>\n",
       "      <td>77</td>\n",
       "      <td>2006 2006 2006 2006</td>\n",
       "    </tr>\n",
       "    <tr>\n",
       "      <th>...</th>\n",
       "      <td>...</td>\n",
       "      <td>...</td>\n",
       "      <td>...</td>\n",
       "      <td>...</td>\n",
       "      <td>...</td>\n",
       "    </tr>\n",
       "    <tr>\n",
       "      <th>23982</th>\n",
       "      <td>webtables2/K4/0_1438042987171.38;warc;CC-MAIN-...</td>\n",
       "      <td>1</td>\n",
       "      <td>location</td>\n",
       "      <td>44</td>\n",
       "      <td>Queenstown Alexandra Dunedin Dunedin</td>\n",
       "    </tr>\n",
       "    <tr>\n",
       "      <th>23983</th>\n",
       "      <td>webtables2/K4/0_1438042987171.38;warc;CC-MAIN-...</td>\n",
       "      <td>0</td>\n",
       "      <td>team</td>\n",
       "      <td>73</td>\n",
       "      <td>Hamilton Bulldogs Wilkes-Barre/Scranton Pengui...</td>\n",
       "    </tr>\n",
       "    <tr>\n",
       "      <th>23984</th>\n",
       "      <td>webtables2/K4/0_1438042987171.38;warc;CC-MAIN-...</td>\n",
       "      <td>0</td>\n",
       "      <td>code</td>\n",
       "      <td>16</td>\n",
       "      <td>FEEDME10 JYCNMEVP WEBSAVER BARROWIF LOVEDOM! Y...</td>\n",
       "    </tr>\n",
       "    <tr>\n",
       "      <th>23985</th>\n",
       "      <td>webtables2/K4/0_1438042987171.38;warc;CC-MAIN-...</td>\n",
       "      <td>0</td>\n",
       "      <td>year</td>\n",
       "      <td>77</td>\n",
       "      <td>2003/04 2004/05 2005/06 2006/07 2007/08 2007/0...</td>\n",
       "    </tr>\n",
       "    <tr>\n",
       "      <th>23986</th>\n",
       "      <td>webtables2/K4/0_1438042987171.38;warc;CC-MAIN-...</td>\n",
       "      <td>1</td>\n",
       "      <td>team</td>\n",
       "      <td>73</td>\n",
       "      <td>Rice Rice Rice Rice Utah Jazz Utah Jazz Real M...</td>\n",
       "    </tr>\n",
       "  </tbody>\n",
       "</table>\n",
       "<p>119360 rows × 5 columns</p>\n",
       "</div>"
      ],
      "text/plain": [
       "                                                table_id  col_idx     class  \\\n",
       "0      webtables1/K0/0_1438042986022.41;warc;CC-MAIN-...        0      name   \n",
       "1      webtables1/K0/0_1438042986022.41;warc;CC-MAIN-...        0      rank   \n",
       "2      webtables1/K0/0_1438042986022.41;warc;CC-MAIN-...        0      city   \n",
       "3      webtables1/K0/0_1438042986022.41;warc;CC-MAIN-...        1      rank   \n",
       "4      webtables1/K0/0_1438042986022.41;warc;CC-MAIN-...        0      year   \n",
       "...                                                  ...      ...       ...   \n",
       "23982  webtables2/K4/0_1438042987171.38;warc;CC-MAIN-...        1  location   \n",
       "23983  webtables2/K4/0_1438042987171.38;warc;CC-MAIN-...        0      team   \n",
       "23984  webtables2/K4/0_1438042987171.38;warc;CC-MAIN-...        0      code   \n",
       "23985  webtables2/K4/0_1438042987171.38;warc;CC-MAIN-...        0      year   \n",
       "23986  webtables2/K4/0_1438042987171.38;warc;CC-MAIN-...        1      team   \n",
       "\n",
       "       class_id                                               data  \n",
       "0            46                             Cleanliness Structural  \n",
       "1            60      1.0 2.0 3.0 4.0 5.0 6.0 7.0 8.0 9.0 10.0 11.0  \n",
       "2            12  Wiesbaden, DE Oldenburg, DE Saarbrücken, DE Fr...  \n",
       "3            60            368 1049 156 1827 859 9999 162 869 15 8  \n",
       "4            77                                2006 2006 2006 2006  \n",
       "...         ...                                                ...  \n",
       "23982        44               Queenstown Alexandra Dunedin Dunedin  \n",
       "23983        73  Hamilton Bulldogs Wilkes-Barre/Scranton Pengui...  \n",
       "23984        16  FEEDME10 JYCNMEVP WEBSAVER BARROWIF LOVEDOM! Y...  \n",
       "23985        77  2003/04 2004/05 2005/06 2006/07 2007/08 2007/0...  \n",
       "23986        73  Rice Rice Rice Rice Utah Jazz Utah Jazz Real M...  \n",
       "\n",
       "[119360 rows x 5 columns]"
      ]
     },
     "execution_count": 132,
     "metadata": {},
     "output_type": "execute_result"
    }
   ],
   "source": [
    "df"
   ]
  },
  {
   "cell_type": "code",
   "execution_count": null,
   "metadata": {},
   "outputs": [],
   "source": []
  },
  {
   "cell_type": "code",
   "execution_count": 122,
   "metadata": {},
   "outputs": [],
   "source": [
    "df_group = df.groupby(\"table_id\")\n",
    "column_num = []\n",
    "for i, (index, group_df) in enumerate(df_group):\n",
    "    column_num.append(len(group_df))"
   ]
  },
  {
   "cell_type": "code",
   "execution_count": 125,
   "metadata": {},
   "outputs": [
    {
     "name": "stdout",
     "output_type": "stream",
     "text": [
      "6\n"
     ]
    },
    {
     "data": {
      "text/plain": [
       "<Axes: ylabel='Count'>"
      ]
     },
     "execution_count": 125,
     "metadata": {},
     "output_type": "execute_result"
    },
    {
     "data": {
      "image/png": "[encoded data removed]",
      "text/plain": [
       "<Figure size 432x288 with 1 Axes>"
      ]
     },
     "metadata": {
      "needs_background": "light"
     },
     "output_type": "display_data"
    }
   ],
   "source": [
    "print(max(column_num))\n",
    "sns.histplot(column_num)"
   ]
  },
  {
   "cell_type": "code",
   "execution_count": 121,
   "metadata": {},
   "outputs": [
    {
     "data": {
      "text/plain": [
       "3"
      ]
     },
     "execution_count": 121,
     "metadata": {},
     "output_type": "execute_result"
    }
   ],
   "source": [
    "len(group_df)"
   ]
  },
  {
   "cell_type": "code",
   "execution_count": 63,
   "metadata": {},
   "outputs": [
    {
     "data": {
      "text/plain": [
       "'webtables1/K0_multi-col/0_1438042986022.41;warc;CC-MAIN-20150728002306-00023-ip-10-236-191-2.ec2.internal.json.gz_2381-Plants And Animals Concer_M7FH7H67JKDBEZRS'"
      ]
     },
     "execution_count": 63,
     "metadata": {},
     "output_type": "execute_result"
    }
   ],
   "source": [
    "df_multi.loc[[0],[\"table_id\"]].values[0][0]"
   ]
  },
  {
   "cell_type": "code",
   "execution_count": 67,
   "metadata": {},
   "outputs": [],
   "source": [
    "table_names = [title.split(\"-\")[-1] for title in df_multi[\"table_id\"].values]"
   ]
  },
  {
   "cell_type": "code",
   "execution_count": 69,
   "metadata": {},
   "outputs": [
    {
     "data": {
      "text/plain": [
       "['Plants And Animals Concer_M7FH7H67JKDBEZRS',\n",
       " 'Plants And Animals Concer_M7FH7H67JKDBEZRS',\n",
       " 'Web Application Requireme_VOUQM65YXY2ZSPSI',\n",
       " 'Web Application Requireme_VOUQM65YXY2ZSPSI',\n",
       " ' Wo_BKQQVUXKM2LUBSWG',\n",
       " ' Wo_BKQQVUXKM2LUBSWG',\n",
       " '1997 USMS Top 10 SCM for _RLWYTTQLR645ACFV',\n",
       " '1997 USMS Top 10 SCM for _RLWYTTQLR645ACFV',\n",
       " '1997 USMS Top 10 SCM for _RLWYTTQLR645ACFV',\n",
       " '_E3IERQO3AJUBAC5B']"
      ]
     },
     "execution_count": 69,
     "metadata": {},
     "output_type": "execute_result"
    }
   ],
   "source": [
    "table_names[:10]"
   ]
  },
  {
   "cell_type": "code",
   "execution_count": 59,
   "metadata": {},
   "outputs": [
    {
     "data": {
      "text/html": [
       "<div>\n",
       "<style scoped>\n",
       "    .dataframe tbody tr th:only-of-type {\n",
       "        vertical-align: middle;\n",
       "    }\n",
       "\n",
       "    .dataframe tbody tr th {\n",
       "        vertical-align: top;\n",
       "    }\n",
       "\n",
       "    .dataframe thead th {\n",
       "        text-align: right;\n",
       "    }\n",
       "</style>\n",
       "<table border=\"1\" class=\"dataframe\">\n",
       "  <thead>\n",
       "    <tr style=\"text-align: right;\">\n",
       "      <th></th>\n",
       "      <th>table_id</th>\n",
       "      <th>col_idx</th>\n",
       "      <th>class</th>\n",
       "      <th>class_id</th>\n",
       "      <th>data</th>\n",
       "    </tr>\n",
       "  </thead>\n",
       "  <tbody>\n",
       "    <tr>\n",
       "      <th>0</th>\n",
       "      <td>webtables1/K0_multi-col/0_1438042986022.41;war...</td>\n",
       "      <td>0</td>\n",
       "      <td>city</td>\n",
       "      <td>12</td>\n",
       "      <td>Vancouver Victoria Edmonton Urbana Toronto Ottawa</td>\n",
       "    </tr>\n",
       "    <tr>\n",
       "      <th>1</th>\n",
       "      <td>webtables1/K0_multi-col/0_1438042986022.41;war...</td>\n",
       "      <td>1</td>\n",
       "      <td>state</td>\n",
       "      <td>70</td>\n",
       "      <td>BC BC AB IL ON ON</td>\n",
       "    </tr>\n",
       "    <tr>\n",
       "      <th>2</th>\n",
       "      <td>webtables1/K0_multi-col/0_1438042986022.41;war...</td>\n",
       "      <td>0</td>\n",
       "      <td>type</td>\n",
       "      <td>75</td>\n",
       "      <td>Windows account Service account</td>\n",
       "    </tr>\n",
       "    <tr>\n",
       "      <th>3</th>\n",
       "      <td>webtables1/K0_multi-col/0_1438042986022.41;war...</td>\n",
       "      <td>1</td>\n",
       "      <td>description</td>\n",
       "      <td>29</td>\n",
       "      <td>You must log on to the Web server computer wit...</td>\n",
       "    </tr>\n",
       "    <tr>\n",
       "      <th>4</th>\n",
       "      <td>webtables1/K0_multi-col/0_1438042986022.41;war...</td>\n",
       "      <td>0</td>\n",
       "      <td>name</td>\n",
       "      <td>46</td>\n",
       "      <td>Name ArkInventory-r38734-nolib ArkInventory-r3...</td>\n",
       "    </tr>\n",
       "    <tr>\n",
       "      <th>...</th>\n",
       "      <td>...</td>\n",
       "      <td>...</td>\n",
       "      <td>...</td>\n",
       "      <td>...</td>\n",
       "      <td>...</td>\n",
       "    </tr>\n",
       "    <tr>\n",
       "      <th>14530</th>\n",
       "      <td>webtables2/K0_multi-col/0_1438042987171.38;war...</td>\n",
       "      <td>0</td>\n",
       "      <td>name</td>\n",
       "      <td>46</td>\n",
       "      <td>Alison Terry Kerry Fraas Heather Hageman Franc...</td>\n",
       "    </tr>\n",
       "    <tr>\n",
       "      <th>14531</th>\n",
       "      <td>webtables2/K0_multi-col/0_1438042987171.38;war...</td>\n",
       "      <td>1</td>\n",
       "      <td>age</td>\n",
       "      <td>3</td>\n",
       "      <td>25 25 29 27 27 27 29 26 28 29</td>\n",
       "    </tr>\n",
       "    <tr>\n",
       "      <th>14532</th>\n",
       "      <td>webtables2/K0_multi-col/0_1438042987171.38;war...</td>\n",
       "      <td>2</td>\n",
       "      <td>club</td>\n",
       "      <td>15</td>\n",
       "      <td>SDSM NCMS NCMS OREG CHMS RMM GERM NIAG WPM ORLM</td>\n",
       "    </tr>\n",
       "    <tr>\n",
       "      <th>14533</th>\n",
       "      <td>webtables2/K0_multi-col/0_1438042987171.38;war...</td>\n",
       "      <td>0</td>\n",
       "      <td>position</td>\n",
       "      <td>56</td>\n",
       "      <td>131 – 131 162 – 162 162 – 162 165 – 165 169 – ...</td>\n",
       "    </tr>\n",
       "    <tr>\n",
       "      <th>14534</th>\n",
       "      <td>webtables2/K0_multi-col/0_1438042987171.38;war...</td>\n",
       "      <td>1</td>\n",
       "      <td>description</td>\n",
       "      <td>29</td>\n",
       "      <td>Iron 1By similarity Iron 1By similarity Iron 2...</td>\n",
       "    </tr>\n",
       "  </tbody>\n",
       "</table>\n",
       "<p>14535 rows × 5 columns</p>\n",
       "</div>"
      ],
      "text/plain": [
       "                                                table_id  col_idx  \\\n",
       "0      webtables1/K0_multi-col/0_1438042986022.41;war...        0   \n",
       "1      webtables1/K0_multi-col/0_1438042986022.41;war...        1   \n",
       "2      webtables1/K0_multi-col/0_1438042986022.41;war...        0   \n",
       "3      webtables1/K0_multi-col/0_1438042986022.41;war...        1   \n",
       "4      webtables1/K0_multi-col/0_1438042986022.41;war...        0   \n",
       "...                                                  ...      ...   \n",
       "14530  webtables2/K0_multi-col/0_1438042987171.38;war...        0   \n",
       "14531  webtables2/K0_multi-col/0_1438042987171.38;war...        1   \n",
       "14532  webtables2/K0_multi-col/0_1438042987171.38;war...        2   \n",
       "14533  webtables2/K0_multi-col/0_1438042987171.38;war...        0   \n",
       "14534  webtables2/K0_multi-col/0_1438042987171.38;war...        1   \n",
       "\n",
       "             class  class_id  \\\n",
       "0             city        12   \n",
       "1            state        70   \n",
       "2             type        75   \n",
       "3      description        29   \n",
       "4             name        46   \n",
       "...            ...       ...   \n",
       "14530         name        46   \n",
       "14531          age         3   \n",
       "14532         club        15   \n",
       "14533     position        56   \n",
       "14534  description        29   \n",
       "\n",
       "                                                    data  \n",
       "0      Vancouver Victoria Edmonton Urbana Toronto Ottawa  \n",
       "1                                      BC BC AB IL ON ON  \n",
       "2                        Windows account Service account  \n",
       "3      You must log on to the Web server computer wit...  \n",
       "4      Name ArkInventory-r38734-nolib ArkInventory-r3...  \n",
       "...                                                  ...  \n",
       "14530  Alison Terry Kerry Fraas Heather Hageman Franc...  \n",
       "14531                      25 25 29 27 27 27 29 26 28 29  \n",
       "14532    SDSM NCMS NCMS OREG CHMS RMM GERM NIAG WPM ORLM  \n",
       "14533  131 – 131 162 – 162 162 – 162 165 – 165 169 – ...  \n",
       "14534  Iron 1By similarity Iron 1By similarity Iron 2...  \n",
       "\n",
       "[14535 rows x 5 columns]"
      ]
     },
     "execution_count": 59,
     "metadata": {},
     "output_type": "execute_result"
    }
   ],
   "source": [
    "df_multi"
   ]
  },
  {
   "cell_type": "code",
   "execution_count": 51,
   "metadata": {},
   "outputs": [],
   "source": [
    "for i, (index, group_df) in enumerate(df_multi.groupby(\"table_id\")):\n",
    "    break"
   ]
  },
  {
   "cell_type": "code",
   "execution_count": 44,
   "metadata": {},
   "outputs": [
    {
     "data": {
      "text/html": [
       "<div>\n",
       "<style scoped>\n",
       "    .dataframe tbody tr th:only-of-type {\n",
       "        vertical-align: middle;\n",
       "    }\n",
       "\n",
       "    .dataframe tbody tr th {\n",
       "        vertical-align: top;\n",
       "    }\n",
       "\n",
       "    .dataframe thead th {\n",
       "        text-align: right;\n",
       "    }\n",
       "</style>\n",
       "<table border=\"1\" class=\"dataframe\">\n",
       "  <thead>\n",
       "    <tr style=\"text-align: right;\">\n",
       "      <th></th>\n",
       "      <th>table_id</th>\n",
       "      <th>col_idx</th>\n",
       "      <th>class</th>\n",
       "      <th>class_id</th>\n",
       "      <th>data</th>\n",
       "    </tr>\n",
       "  </thead>\n",
       "  <tbody>\n",
       "    <tr>\n",
       "      <th>347</th>\n",
       "      <td>webtables1/K0_multi-col/0_1438042986022.41;war...</td>\n",
       "      <td>0</td>\n",
       "      <td>code</td>\n",
       "      <td>16</td>\n",
       "      <td>VISR VIAW OPSD FR3254</td>\n",
       "    </tr>\n",
       "    <tr>\n",
       "      <th>348</th>\n",
       "      <td>webtables1/K0_multi-col/0_1438042986022.41;war...</td>\n",
       "      <td>1</td>\n",
       "      <td>name</td>\n",
       "      <td>46</td>\n",
       "      <td>SRINAGAR AWANTIPUR SKARDU KARGIL</td>\n",
       "    </tr>\n",
       "    <tr>\n",
       "      <th>349</th>\n",
       "      <td>webtables1/K0_multi-col/0_1438042986022.41;war...</td>\n",
       "      <td>2</td>\n",
       "      <td>city</td>\n",
       "      <td>12</td>\n",
       "      <td>Srinagar Skardu</td>\n",
       "    </tr>\n",
       "  </tbody>\n",
       "</table>\n",
       "</div>"
      ],
      "text/plain": [
       "                                              table_id  col_idx class  \\\n",
       "347  webtables1/K0_multi-col/0_1438042986022.41;war...        0  code   \n",
       "348  webtables1/K0_multi-col/0_1438042986022.41;war...        1  name   \n",
       "349  webtables1/K0_multi-col/0_1438042986022.41;war...        2  city   \n",
       "\n",
       "     class_id                              data  \n",
       "347        16             VISR VIAW OPSD FR3254  \n",
       "348        46  SRINAGAR AWANTIPUR SKARDU KARGIL  \n",
       "349        12                   Srinagar Skardu  "
      ]
     },
     "execution_count": 44,
     "metadata": {},
     "output_type": "execute_result"
    }
   ],
   "source": [
    "group_df"
   ]
  },
  {
   "cell_type": "code",
   "execution_count": 52,
   "metadata": {},
   "outputs": [],
   "source": [
    "token_ids_list = group_df[\"data\"].apply(lambda x: tokenizer.encode(\n",
    "                x, add_special_tokens=True, max_length=max_length + 2)).tolist(\n",
    "                )"
   ]
  },
  {
   "cell_type": "code",
   "execution_count": 56,
   "metadata": {},
   "outputs": [],
   "source": [
    "from functools import reduce\n",
    "import operator\n",
    "import os\n",
    "import pickle\n",
    "\n",
    "import numpy as np\n",
    "import pandas as pd\n",
    "import torch\n",
    "from torch.utils.data import Dataset\n",
    "import transformers\n",
    "token_ids = torch.LongTensor(reduce(operator.add,\n",
    "                                                token_ids_list)).to(device)"
   ]
  },
  {
   "cell_type": "code",
   "execution_count": 57,
   "metadata": {},
   "outputs": [
    {
     "data": {
      "text/plain": [
       "tensor([  101, 25292,  2099,  3081,  2860, 23092,  2094, 10424, 16703, 27009,\n",
       "          102,   101,  5185, 14346, 22091,  4630, 11514,  3126, 24053,  4103,\n",
       "         2226, 10556, 10623,  4014,   102,   101,  5185, 14346, 24053,  4103,\n",
       "         2226,   102])"
      ]
     },
     "execution_count": 57,
     "metadata": {},
     "output_type": "execute_result"
    }
   ],
   "source": [
    "token_ids"
   ]
  },
  {
   "cell_type": "code",
   "execution_count": 70,
   "metadata": {},
   "outputs": [],
   "source": [
    "dataset_cls = SatoCVTablewiseDataset"
   ]
  },
  {
   "cell_type": "code",
   "execution_count": 112,
   "metadata": {},
   "outputs": [
    {
     "data": {
      "text/plain": [
       "128"
      ]
     },
     "execution_count": 112,
     "metadata": {},
     "output_type": "execute_result"
    }
   ],
   "source": [
    "max_length"
   ]
  },
  {
   "cell_type": "code",
   "execution_count": 115,
   "metadata": {},
   "outputs": [],
   "source": [
    "dataset_list = [dataset_cls(cv=i,\n",
    "                                        split=\"test\",\n",
    "                                        tokenizer=tokenizer,\n",
    "                                        max_length=32,\n",
    "                                        multicol_only=True,\n",
    "                                        train_ratio=train_ratio,\n",
    "                                        device=device,\n",
    "                                        base_dirpath=\"/data/zhihao/TU/doduo/data\",) for i in range(1)]"
   ]
  },
  {
   "cell_type": "code",
   "execution_count": 116,
   "metadata": {},
   "outputs": [],
   "source": [
    "length_list = []\n",
    "for i in range(1):\n",
    "    length = []\n",
    "    for j in range(len(dataset_list[i])):\n",
    "        length.append(len(dataset_list[i][j]['data']))\n",
    "    length_list.append(length)"
   ]
  },
  {
   "cell_type": "code",
   "execution_count": null,
   "metadata": {},
   "outputs": [],
   "source": [
    "length_list = []\n",
    "for i in range(5):\n",
    "    length = []\n",
    "    for j in range(len(dataset_list[i])):\n",
    "        length.append(len(dataset_list[i][j]['data']))\n",
    "    length_list.append(length)"
   ]
  },
  {
   "cell_type": "code",
   "execution_count": null,
   "metadata": {},
   "outputs": [
    {
     "name": "stdout",
     "output_type": "stream",
     "text": [
      "6451\n",
      "6516\n",
      "6431\n",
      "6374\n",
      "6493\n"
     ]
    }
   ],
   "source": [
    "for i in range(5):\n",
    "    print(len(length_list[i]))"
   ]
  },
  {
   "cell_type": "code",
   "execution_count": 117,
   "metadata": {},
   "outputs": [
    {
     "data": {
      "text/plain": [
       "<Axes: ylabel='Count'>"
      ]
     },
     "execution_count": 117,
     "metadata": {},
     "output_type": "execute_result"
    },
    {
     "data": {
      "image/png": "[encoded data removed]",
      "text/plain": [
       "<Figure size 432x288 with 1 Axes>"
      ]
     },
     "metadata": {
      "needs_background": "light"
     },
     "output_type": "display_data"
    }
   ],
   "source": [
    "import seaborn as sns\n",
    "sns.histplot(length_list[0])"
   ]
  },
  {
   "cell_type": "code",
   "execution_count": null,
   "metadata": {},
   "outputs": [
    {
     "data": {
      "text/plain": [
       "<Axes: ylabel='Count'>"
      ]
     },
     "execution_count": 107,
     "metadata": {},
     "output_type": "execute_result"
    },
    {
     "data": {
      "image/png": "[encoded data removed]",
      "text/plain": [
       "<Figure size 432x288 with 1 Axes>"
      ]
     },
     "metadata": {
      "needs_background": "light"
     },
     "output_type": "display_data"
    }
   ],
   "source": [
    "import seaborn as sns\n",
    "sns.histplot(length_list[0])"
   ]
  },
  {
   "cell_type": "code",
   "execution_count": null,
   "metadata": {},
   "outputs": [],
   "source": [
    "for i in range(5):\n",
    "    print(max(length_list[i]))\n",
    "    "
   ]
  },
  {
   "cell_type": "code",
   "execution_count": 104,
   "metadata": {},
   "outputs": [
    {
     "data": {
      "text/plain": [
       "32"
      ]
     },
     "execution_count": 104,
     "metadata": {},
     "output_type": "execute_result"
    }
   ],
   "source": [
    "len(dataset_list[0][0]['data'])"
   ]
  },
  {
   "cell_type": "code",
   "execution_count": 102,
   "metadata": {},
   "outputs": [],
   "source": [
    "train_dataset = dataset_cls(cv=4,\n",
    "                                        split=\"test\",\n",
    "                                        tokenizer=tokenizer,\n",
    "                                        max_length=max_length,\n",
    "                                        multicol_only=True,\n",
    "                                        train_ratio=train_ratio,\n",
    "                                        device=device,\n",
    "                                        base_dirpath=\"/data/zhihao/TU/doduo/data\",)"
   ]
  },
  {
   "cell_type": "code",
   "execution_count": 72,
   "metadata": {},
   "outputs": [],
   "source": [
    "sato_coltypes = [\"address\", \"affiliate\", \"affiliation\", \"age\", \"album\", \"area\",\n",
    "                 \"artist\", \"birthDate\", \"birthPlace\", \"brand\", \"capacity\", \"category\",\n",
    "                 \"city\", \"class\", \"classification\", \"club\", \"code\", \"collection\", \"command\",\n",
    "                 \"company\", \"component\", \"continent\", \"country\", \"county\", \"creator\", \"credit\",\n",
    "                 \"currency\", \"day\", \"depth\", \"description\", \"director\", \"duration\", \"education\",\n",
    "                 \"elevation\", \"family\", \"fileSize\", \"format\", \"gender\", \"genre\", \"grades\", \"isbn\",\n",
    "                 \"industry\", \"jockey\", \"language\", \"location\", \"manufacturer\", \"name\", \"nationality\",\n",
    "                 \"notes\", \"operator\", \"order\", \"organisation\", \"origin\", \"owner\", \"person\", \"plays\",\n",
    "                 \"position\", \"product\", \"publisher\", \"range\", \"rank\", \"ranking\", \"region\", \"religion\",\n",
    "                 \"requirement\", \"result\", \"sales\", \"service\", \"sex\", \"species\", \"state\", \"status\",\n",
    "                 \"symbol\", \"team\", \"teamName\", \"type\", \"weight\", \"year\"]"
   ]
  },
  {
   "cell_type": "code",
   "execution_count": 73,
   "metadata": {},
   "outputs": [
    {
     "data": {
      "text/plain": [
       "78"
      ]
     },
     "execution_count": 73,
     "metadata": {},
     "output_type": "execute_result"
    }
   ],
   "source": [
    "len(sato_coltypes)"
   ]
  },
  {
   "cell_type": "code",
   "execution_count": 76,
   "metadata": {},
   "outputs": [],
   "source": [
    "import json\n",
    "import numpy as np\n",
    "\n",
    "# Function to load confusion matrix from JSON file\n",
    "with open(\"/data/zhihao/TU/doduo/eval/msato0_mosato_bert_bert-base-uncased-bs16-ml-32__msato0-1.00=msato0.json\", 'r') as f:\n",
    "    data = json.load(f)"
   ]
  },
  {
   "cell_type": "code",
   "execution_count": 78,
   "metadata": {},
   "outputs": [
    {
     "data": {
      "text/plain": [
       "dict_keys(['f1_macro', 'f1_micro'])"
      ]
     },
     "execution_count": 78,
     "metadata": {},
     "output_type": "execute_result"
    }
   ],
   "source": [
    "data.keys()"
   ]
  },
  {
   "cell_type": "code",
   "execution_count": 80,
   "metadata": {},
   "outputs": [
    {
     "data": {
      "text/plain": [
       "dict_keys(['ts_micro_f1', 'ts_macro_f1', 'ts_class_f1', 'confusion_matrix'])"
      ]
     },
     "execution_count": 80,
     "metadata": {},
     "output_type": "execute_result"
    }
   ],
   "source": [
    "data['f1_micro'].keys()"
   ]
  },
  {
   "cell_type": "code",
   "execution_count": 84,
   "metadata": {},
   "outputs": [
    {
     "data": {
      "text/plain": [
       "78"
      ]
     },
     "execution_count": 84,
     "metadata": {},
     "output_type": "execute_result"
    }
   ],
   "source": [
    "len(data['f1_micro']['ts_class_f1'])"
   ]
  },
  {
   "cell_type": "code",
   "execution_count": 96,
   "metadata": {},
   "outputs": [],
   "source": [
    "# data['f1_micro']['ts_class_f1']"
   ]
  },
  {
   "cell_type": "code",
   "execution_count": 82,
   "metadata": {},
   "outputs": [
    {
     "data": {
      "text/plain": [
       "78"
      ]
     },
     "execution_count": 82,
     "metadata": {},
     "output_type": "execute_result"
    }
   ],
   "source": [
    "len(data['f1_micro']['confusion_matrix'])"
   ]
  },
  {
   "cell_type": "code",
   "execution_count": 91,
   "metadata": {},
   "outputs": [],
   "source": [
    "table_lens = torch.Tensor([len(train_dataset[i][\"data\"]) for i in range(len(train_dataset))])"
   ]
  },
  {
   "cell_type": "code",
   "execution_count": 93,
   "metadata": {},
   "outputs": [
    {
     "data": {
      "text/plain": [
       "tensor(3.)"
      ]
     },
     "execution_count": 93,
     "metadata": {},
     "output_type": "execute_result"
    }
   ],
   "source": [
    "table_lens.min()"
   ]
  },
  {
   "cell_type": "code",
   "execution_count": 94,
   "metadata": {},
   "outputs": [
    {
     "data": {
      "text/plain": [
       "tensor(87.1377)"
      ]
     },
     "execution_count": 94,
     "metadata": {},
     "output_type": "execute_result"
    }
   ],
   "source": [
    "table_lens.mean()"
   ]
  },
  {
   "cell_type": "code",
   "execution_count": 95,
   "metadata": {},
   "outputs": [
    {
     "data": {
      "text/plain": [
       "tensor(650.)"
      ]
     },
     "execution_count": 95,
     "metadata": {},
     "output_type": "execute_result"
    }
   ],
   "source": [
    "table_lens.max()"
   ]
  },
  {
   "cell_type": "code",
   "execution_count": 97,
   "metadata": {},
   "outputs": [],
   "source": [
    "\n",
    "test_dataloader = DataLoader(train_dataset,\n",
    "                                batch_size=batch_size,\n",
    "                                collate_fn=collate_fn)"
   ]
  },
  {
   "cell_type": "code",
   "execution_count": 100,
   "metadata": {},
   "outputs": [],
   "source": [
    "length = []\n",
    "for data in test_dataloader:\n",
    "    length.append(data[\"data\"].T.shape[1])"
   ]
  },
  {
   "cell_type": "code",
   "execution_count": 101,
   "metadata": {},
   "outputs": [
    {
     "data": {
      "text/plain": [
       "650"
      ]
     },
     "execution_count": 101,
     "metadata": {},
     "output_type": "execute_result"
    }
   ],
   "source": [
    "max(length)"
   ]
  },
  {
   "cell_type": "code",
   "execution_count": 156,
   "metadata": {},
   "outputs": [],
   "source": [
    "import json\n",
    "import numpy as np\n",
    "\n",
    "# Function to load confusion matrix from JSON file\n",
    "with open(\"/data/zhihao/TU/doduo/eval/sato0_mosato_bert_bert-base-uncased-bs16-ml-32__sato0-1.00=sato0.json\", 'r') as f:\n",
    "    results = json.load(f)"
   ]
  },
  {
   "cell_type": "code",
   "execution_count": 159,
   "metadata": {},
   "outputs": [
    {
     "data": {
      "text/plain": [
       "dict_keys(['ts_micro_f1', 'ts_macro_f1', 'ts_class_f1', 'confusion_matrix'])"
      ]
     },
     "execution_count": 159,
     "metadata": {},
     "output_type": "execute_result"
    }
   ],
   "source": [
    "results[\"loss\"].keys()"
   ]
  },
  {
   "cell_type": "code",
   "execution_count": 180,
   "metadata": {},
   "outputs": [],
   "source": [
    "cfm = np.array(results[\"loss\"][\"confusion_matrix\"])"
   ]
  },
  {
   "cell_type": "code",
   "execution_count": 164,
   "metadata": {},
   "outputs": [],
   "source": [
    "class_f1 = np.array(results[\"loss\"]['ts_class_f1'])"
   ]
  },
  {
   "cell_type": "code",
   "execution_count": 166,
   "metadata": {},
   "outputs": [
    {
     "data": {
      "text/plain": [
       "<Axes: >"
      ]
     },
     "execution_count": 166,
     "metadata": {},
     "output_type": "execute_result"
    },
    {
     "data": {
      "image/png": "[encoded data removed]",
      "text/plain": [
       "<Figure size 432x288 with 1 Axes>"
      ]
     },
     "metadata": {
      "needs_background": "light"
     },
     "output_type": "display_data"
    }
   ],
   "source": [
    "class_samples = df[\"class_id\"].value_counts().sort_index().values\n",
    "sns.barplot(x=np.arange(len(class_samples)), y=class_samples)"
   ]
  },
  {
   "cell_type": "code",
   "execution_count": 163,
   "metadata": {},
   "outputs": [
    {
     "data": {
      "text/plain": [
       "array([0.00704591, 0.00021783, 0.00165885, 0.06014578, 0.01277647,\n",
       "       0.00237098, 0.01807976, 0.00054457, 0.00045241, 0.00116454,\n",
       "       0.00046079, 0.03352044, 0.04436997, 0.0101374 , 0.00082942,\n",
       "       0.0183311 , 0.02261227, 0.00073727, 0.00067862, 0.01274296,\n",
       "       0.00142426, 0.00020945, 0.01443532, 0.00502681, 0.00032674,\n",
       "       0.00115617, 0.00058646, 0.00492627, 0.00112265, 0.09431133,\n",
       "       0.00027647, 0.00670241, 0.00030161, 0.00168398, 0.00113941,\n",
       "       0.00184316, 0.00549598, 0.0047252 , 0.00134048, 0.00183479,\n",
       "       0.00191019, 0.00352714, 0.00294068, 0.00256367, 0.04491454,\n",
       "       0.00127346, 0.13397286, 0.00061997, 0.00845342, 0.00032674,\n",
       "       0.00174263, 0.00017594, 0.00172587, 0.00157507, 0.00030161,\n",
       "       0.00175101, 0.01740952, 0.00310824, 0.00181803, 0.00056971,\n",
       "       0.04285355, 0.00046079, 0.00272286, 0.00031836, 0.00029323,\n",
       "       0.01792058, 0.00025134, 0.00233747, 0.0032004 , 0.00067862,\n",
       "       0.03672084, 0.03997151, 0.00867125, 0.08690516, 0.00203586,\n",
       "       0.05550436, 0.0259132 , 0.04481401])"
      ]
     },
     "execution_count": 163,
     "metadata": {},
     "output_type": "execute_result"
    }
   ],
   "source": [
    "class_freq"
   ]
  },
  {
   "cell_type": "code",
   "execution_count": 165,
   "metadata": {},
   "outputs": [
    {
     "name": "stdout",
     "output_type": "stream",
     "text": [
      "Correlation: 0.32802076344339465, p-value: 0.0033699307331212427\n"
     ]
    }
   ],
   "source": [
    "from scipy.stats import pearsonr\n",
    "\n",
    "correlation, p_value = pearsonr(class_freq, class_f1)\n",
    "print(f'Correlation: {correlation}, p-value: {p_value}')\n"
   ]
  },
  {
   "cell_type": "code",
   "execution_count": 167,
   "metadata": {},
   "outputs": [
    {
     "name": "stdout",
     "output_type": "stream",
     "text": [
      "Correlation: 0.32802076344339465, p-value: 0.0033699307331212427\n"
     ]
    }
   ],
   "source": [
    "from scipy.stats import pearsonr\n",
    "\n",
    "correlation, p_value = pearsonr(class_samples, class_f1)\n",
    "print(f'Correlation: {correlation}, p-value: {p_value}')"
   ]
  },
  {
   "cell_type": "code",
   "execution_count": 168,
   "metadata": {},
   "outputs": [
    {
     "data": {
      "image/png": "[encoded data removed]",
      "text/plain": [
       "<Figure size 432x288 with 1 Axes>"
      ]
     },
     "metadata": {
      "needs_background": "light"
     },
     "output_type": "display_data"
    }
   ],
   "source": [
    "import numpy as np\n",
    "import matplotlib.pyplot as plt\n",
    "\n",
    "# Assuming class_f1 and class_frequencies are your actual data\n",
    "plt.scatter(class_freq, class_f1)\n",
    "plt.xlabel('Class Frequencies')\n",
    "plt.ylabel('F1 Scores')\n",
    "plt.title('F1 Scores vs Class Frequencies')\n",
    "plt.show()\n"
   ]
  },
  {
   "cell_type": "code",
   "execution_count": 170,
   "metadata": {},
   "outputs": [
    {
     "data": {
      "text/plain": [
       "56"
      ]
     },
     "execution_count": 170,
     "metadata": {},
     "output_type": "execute_result"
    }
   ],
   "source": [
    "(class_freq<0.01).sum()"
   ]
  },
  {
   "cell_type": "code",
   "execution_count": 172,
   "metadata": {},
   "outputs": [
    {
     "data": {
      "text/plain": [
       "array([0.00021783, 0.00237098, 0.00116454, 0.00046079, 0.00082942,\n",
       "       0.00067862, 0.00142426, 0.00032674, 0.00027647, 0.00134048,\n",
       "       0.00127346, 0.00061997, 0.00032674, 0.00030161, 0.00310824,\n",
       "       0.00056971, 0.00046079, 0.00272286, 0.00029323, 0.00067862])"
      ]
     },
     "execution_count": 172,
     "metadata": {},
     "output_type": "execute_result"
    }
   ],
   "source": [
    "class_freq[class_f1<0.8]"
   ]
  },
  {
   "cell_type": "code",
   "execution_count": 174,
   "metadata": {},
   "outputs": [
    {
     "data": {
      "text/plain": [
       "0.0031082439678284182"
      ]
     },
     "execution_count": 174,
     "metadata": {},
     "output_type": "execute_result"
    }
   ],
   "source": [
    "max(class_freq[class_f1<0.8])"
   ]
  },
  {
   "cell_type": "code",
   "execution_count": 225,
   "metadata": {},
   "outputs": [],
   "source": [
    "sato_coltypes = np.array([\"address\", \"affiliate\", \"affiliation\", \"age\", \"album\", \"area\",\n",
    "                 \"artist\", \"birthDate\", \"birthPlace\", \"brand\", \"capacity\", \"category\",\n",
    "                 \"city\", \"class\", \"classification\", \"club\", \"code\", \"collection\", \"command\",\n",
    "                 \"company\", \"component\", \"continent\", \"country\", \"county\", \"creator\", \"credit\",\n",
    "                 \"currency\", \"day\", \"depth\", \"description\", \"director\", \"duration\", \"education\",\n",
    "                 \"elevation\", \"family\", \"fileSize\", \"format\", \"gender\", \"genre\", \"grades\", \"isbn\",\n",
    "                 \"industry\", \"jockey\", \"language\", \"location\", \"manufacturer\", \"name\", \"nationality\",\n",
    "                 \"notes\", \"operator\", \"order\", \"organisation\", \"origin\", \"owner\", \"person\", \"plays\",\n",
    "                 \"position\", \"product\", \"publisher\", \"range\", \"rank\", \"ranking\", \"region\", \"religion\",\n",
    "                 \"requirement\", \"result\", \"sales\", \"service\", \"sex\", \"species\", \"state\", \"status\",\n",
    "                 \"symbol\", \"team\", \"teamName\", \"type\", \"weight\", \"year\"])\n",
    "numeric_keywords = [\n",
    "    \"age\", \"year\", \"capacity\", \"code\", \"rank\", \"ranking\", \"sales\", \"duration\", \n",
    "    \"elevation\", \"fileSize\", \"grades\", \"isbn\", \"order\", \"range\", \"depth\", \"weight\"\n",
    "]\n",
    "is_numeric = np.array([coltype in numeric_keywords for coltype in sato_coltypes])"
   ]
  },
  {
   "cell_type": "code",
   "execution_count": 226,
   "metadata": {},
   "outputs": [
    {
     "data": {
      "text/plain": [
       "16"
      ]
     },
     "execution_count": 226,
     "metadata": {},
     "output_type": "execute_result"
    }
   ],
   "source": [
    "is_numeric.sum()"
   ]
  },
  {
   "cell_type": "code",
   "execution_count": 178,
   "metadata": {},
   "outputs": [
    {
     "data": {
      "text/plain": [
       "array(['affiliate', 'area', 'brand', 'capacity', 'classification',\n",
       "       'command', 'component', 'creator', 'director', 'genre',\n",
       "       'manufacturer', 'nationality', 'operator', 'person', 'product',\n",
       "       'range', 'ranking', 'region', 'requirement', 'species'],\n",
       "      dtype='<U14')"
      ]
     },
     "execution_count": 178,
     "metadata": {},
     "output_type": "execute_result"
    }
   ],
   "source": [
    "sato_coltypes[class_f1<0.8]"
   ]
  },
  {
   "cell_type": "code",
   "execution_count": 185,
   "metadata": {},
   "outputs": [
    {
     "data": {
      "text/plain": [
       "<sklearn.metrics._plot.confusion_matrix.ConfusionMatrixDisplay at 0x7f2354c554c0>"
      ]
     },
     "execution_count": 185,
     "metadata": {},
     "output_type": "execute_result"
    },
    {
     "data": {
      "image/png": "[encoded data removed]",
      "text/plain": [
       "<Figure size 432x288 with 2 Axes>"
      ]
     },
     "metadata": {
      "needs_background": "light"
     },
     "output_type": "display_data"
    }
   ],
   "source": [
    "from sklearn.metrics import confusion_matrix, ConfusionMatrixDisplay\n",
    "disp = ConfusionMatrixDisplay(cfm, display_labels=sato_coltypes)\n",
    "disp.plot()"
   ]
  },
  {
   "cell_type": "code",
   "execution_count": 187,
   "metadata": {},
   "outputs": [
    {
     "data": {
      "text/plain": [
       "(array([ 1,  5,  9, 10, 14, 18, 20, 24, 30, 38, 45, 47, 49, 54, 57, 59, 61,\n",
       "        62, 64, 69]),)"
      ]
     },
     "execution_count": 187,
     "metadata": {},
     "output_type": "execute_result"
    }
   ],
   "source": [
    "np.nonzero(class_f1<0.8)"
   ]
  },
  {
   "cell_type": "code",
   "execution_count": 191,
   "metadata": {},
   "outputs": [
    {
     "data": {
      "text/plain": [
       "11"
      ]
     },
     "execution_count": 191,
     "metadata": {},
     "output_type": "execute_result"
    }
   ],
   "source": [
    "cfm[i][j]"
   ]
  },
  {
   "cell_type": "code",
   "execution_count": 229,
   "metadata": {},
   "outputs": [
    {
     "data": {
      "text/plain": [
       "array([0.98890756, 0.69230769, 0.95483871, 0.82051282, 0.93515358,\n",
       "       0.91262136, 0.90566038, 1.        , 1.        , 0.84337349,\n",
       "       0.47058824, 0.94265594, 0.22222222, 0.94117647, 0.97721917,\n",
       "       0.98470363])"
      ]
     },
     "execution_count": 229,
     "metadata": {},
     "output_type": "execute_result"
    }
   ],
   "source": [
    "class_f1[is_numeric]"
   ]
  },
  {
   "cell_type": "code",
   "execution_count": 234,
   "metadata": {},
   "outputs": [
    {
     "name": "stdout",
     "output_type": "stream",
     "text": [
      "          class                              data\n",
      "2979  affiliate       Right to Life Right to Life\n",
      "2980       type  IE IE IE IE IE CC IE IE IE CC IE\n",
      "          class                                               data\n",
      "8810  affiliate  Harry Reid (D-Nev) Tom Udall (D-NM) Mark Udall...\n",
      "         class                                       data\n",
      "773  affiliate  Republican Party of Indiana Right to Life\n",
      "774       type                                IE IE CC IE\n",
      "          class                       data\n",
      "5427  affiliate  Charles E. Schumer (D-NY)\n",
      "           class               data\n",
      "23569  affiliate      Right to Life\n",
      "23570       type  IE IE IE CC IE IE\n"
     ]
    }
   ],
   "source": [
    "count = 0\n",
    "dfgroup_list = []\n",
    "for i, (index, group_df) in enumerate(df_group_test):\n",
    "    if True in (group_df[\"class\"] == 'affiliate').values:\n",
    "        print(group_df[['class', 'data']])\n",
    "        count += 1\n",
    "        dfgroup_list.append(group_df[[\"col_idx\", 'class', 'data']])\n",
    "dfgroup_list = pd.concat(dfgroup_list, axis=0)\n",
    "    # if count > 5:\n",
    "    #     break"
   ]
  },
  {
   "cell_type": "code",
   "execution_count": 235,
   "metadata": {},
   "outputs": [
    {
     "data": {
      "text/html": [
       "<div>\n",
       "<style scoped>\n",
       "    .dataframe tbody tr th:only-of-type {\n",
       "        vertical-align: middle;\n",
       "    }\n",
       "\n",
       "    .dataframe tbody tr th {\n",
       "        vertical-align: top;\n",
       "    }\n",
       "\n",
       "    .dataframe thead th {\n",
       "        text-align: right;\n",
       "    }\n",
       "</style>\n",
       "<table border=\"1\" class=\"dataframe\">\n",
       "  <thead>\n",
       "    <tr style=\"text-align: right;\">\n",
       "      <th></th>\n",
       "      <th>col_idx</th>\n",
       "      <th>class</th>\n",
       "      <th>data</th>\n",
       "    </tr>\n",
       "  </thead>\n",
       "  <tbody>\n",
       "    <tr>\n",
       "      <th>2979</th>\n",
       "      <td>0</td>\n",
       "      <td>affiliate</td>\n",
       "      <td>Right to Life Right to Life</td>\n",
       "    </tr>\n",
       "    <tr>\n",
       "      <th>2980</th>\n",
       "      <td>1</td>\n",
       "      <td>type</td>\n",
       "      <td>IE IE IE IE IE CC IE IE IE CC IE</td>\n",
       "    </tr>\n",
       "    <tr>\n",
       "      <th>8810</th>\n",
       "      <td>0</td>\n",
       "      <td>affiliate</td>\n",
       "      <td>Harry Reid (D-Nev) Tom Udall (D-NM) Mark Udall...</td>\n",
       "    </tr>\n",
       "    <tr>\n",
       "      <th>773</th>\n",
       "      <td>0</td>\n",
       "      <td>affiliate</td>\n",
       "      <td>Republican Party of Indiana Right to Life</td>\n",
       "    </tr>\n",
       "    <tr>\n",
       "      <th>774</th>\n",
       "      <td>1</td>\n",
       "      <td>type</td>\n",
       "      <td>IE IE CC IE</td>\n",
       "    </tr>\n",
       "    <tr>\n",
       "      <th>5427</th>\n",
       "      <td>0</td>\n",
       "      <td>affiliate</td>\n",
       "      <td>Charles E. Schumer (D-NY)</td>\n",
       "    </tr>\n",
       "    <tr>\n",
       "      <th>23569</th>\n",
       "      <td>0</td>\n",
       "      <td>affiliate</td>\n",
       "      <td>Right to Life</td>\n",
       "    </tr>\n",
       "    <tr>\n",
       "      <th>23570</th>\n",
       "      <td>1</td>\n",
       "      <td>type</td>\n",
       "      <td>IE IE IE CC IE IE</td>\n",
       "    </tr>\n",
       "  </tbody>\n",
       "</table>\n",
       "</div>"
      ],
      "text/plain": [
       "       col_idx      class                                               data\n",
       "2979         0  affiliate                        Right to Life Right to Life\n",
       "2980         1       type                   IE IE IE IE IE CC IE IE IE CC IE\n",
       "8810         0  affiliate  Harry Reid (D-Nev) Tom Udall (D-NM) Mark Udall...\n",
       "773          0  affiliate          Republican Party of Indiana Right to Life\n",
       "774          1       type                                        IE IE CC IE\n",
       "5427         0  affiliate                          Charles E. Schumer (D-NY)\n",
       "23569        0  affiliate                                      Right to Life\n",
       "23570        1       type                                  IE IE IE CC IE IE"
      ]
     },
     "execution_count": 235,
     "metadata": {},
     "output_type": "execute_result"
    }
   ],
   "source": [
    "dfgroup_list"
   ]
  },
  {
   "cell_type": "code",
   "execution_count": 224,
   "metadata": {},
   "outputs": [
    {
     "name": "stdout",
     "output_type": "stream",
     "text": [
      "       class                                          data\n",
      "6204  status  Answered Answered Answered Answered Answered\n",
      "         class                                               data\n",
      "4078       day  Monday Wednesday Thursday Friday Saturday Sund...\n",
      "4079  location  Away Home Away Away Home Home Home Away Home H...\n",
      "4080    status  Final Final Final Final Postponed: May 29th Po...\n",
      "4081    result             Win Win Win Loss Win Win Loss Loss Win\n",
      "       class                                               data\n",
      "1105  status  ENROUTE ONSCENE ENROUTE ONSCENE ONSCENE ONSCEN...\n",
      "       class                                               data\n",
      "6615    type  TV TV TV OVA OVA OVA TV Movie TV Movie TV TV T...\n",
      "6616    year  2011 1973 1997 1990 1998 1989 1998 1999 1968 1...\n",
      "6617  status  Stalled Want to Watch Stalled Stalled Want to ...\n",
      "       class                 data\n",
      "2470  status  confirmed confirmed\n",
      "         class                                               data\n",
      "7189  location                      Home Away Away Away Away Away\n",
      "7190      team  Boston Red Sox Pawtucket Red Sox Portland Sea ...\n",
      "7191    status                Final Final Final Final Final Final\n",
      "7192    result                          Win Loss Loss Win Win Win\n"
     ]
    }
   ],
   "source": [
    "count = 0\n",
    "for i, (index, group_df) in enumerate(df_group_test):\n",
    "    if True in (group_df[\"class\"] == 'status').values:\n",
    "        print(group_df[['class', 'data']])\n",
    "        count += 1\n",
    "    if count > 5:\n",
    "        break"
   ]
  },
  {
   "cell_type": "code",
   "execution_count": 207,
   "metadata": {},
   "outputs": [
    {
     "data": {
      "text/html": [
       "<div>\n",
       "<style scoped>\n",
       "    .dataframe tbody tr th:only-of-type {\n",
       "        vertical-align: middle;\n",
       "    }\n",
       "\n",
       "    .dataframe tbody tr th {\n",
       "        vertical-align: top;\n",
       "    }\n",
       "\n",
       "    .dataframe thead th {\n",
       "        text-align: right;\n",
       "    }\n",
       "</style>\n",
       "<table border=\"1\" class=\"dataframe\">\n",
       "  <thead>\n",
       "    <tr style=\"text-align: right;\">\n",
       "      <th></th>\n",
       "      <th>table_id</th>\n",
       "      <th>col_idx</th>\n",
       "      <th>class</th>\n",
       "      <th>class_id</th>\n",
       "      <th>data</th>\n",
       "    </tr>\n",
       "  </thead>\n",
       "  <tbody>\n",
       "    <tr>\n",
       "      <th>6204</th>\n",
       "      <td>webtables1/K0/0_1438042986022.41;warc;CC-MAIN-...</td>\n",
       "      <td>0</td>\n",
       "      <td>status</td>\n",
       "      <td>71</td>\n",
       "      <td>Answered Answered Answered Answered Answered</td>\n",
       "    </tr>\n",
       "  </tbody>\n",
       "</table>\n",
       "</div>"
      ],
      "text/plain": [
       "                                               table_id  col_idx   class  \\\n",
       "6204  webtables1/K0/0_1438042986022.41;warc;CC-MAIN-...        0  status   \n",
       "\n",
       "      class_id                                          data  \n",
       "6204        71  Answered Answered Answered Answered Answered  "
      ]
     },
     "execution_count": 207,
     "metadata": {},
     "output_type": "execute_result"
    }
   ],
   "source": [
    "group_df"
   ]
  },
  {
   "cell_type": "code",
   "execution_count": 199,
   "metadata": {},
   "outputs": [
    {
     "data": {
      "text/html": [
       "<div>\n",
       "<style scoped>\n",
       "    .dataframe tbody tr th:only-of-type {\n",
       "        vertical-align: middle;\n",
       "    }\n",
       "\n",
       "    .dataframe tbody tr th {\n",
       "        vertical-align: top;\n",
       "    }\n",
       "\n",
       "    .dataframe thead th {\n",
       "        text-align: right;\n",
       "    }\n",
       "</style>\n",
       "<table border=\"1\" class=\"dataframe\">\n",
       "  <thead>\n",
       "    <tr style=\"text-align: right;\">\n",
       "      <th></th>\n",
       "      <th>table_id</th>\n",
       "      <th>col_idx</th>\n",
       "      <th>class</th>\n",
       "      <th>class_id</th>\n",
       "      <th>data</th>\n",
       "    </tr>\n",
       "  </thead>\n",
       "  <tbody>\n",
       "    <tr>\n",
       "      <th>3400</th>\n",
       "      <td>webtables1/K0/0_1438042986022.41;warc;CC-MAIN-...</td>\n",
       "      <td>0</td>\n",
       "      <td>country</td>\n",
       "      <td>22</td>\n",
       "      <td>United States — Alabama — Alaska — Arizona — A...</td>\n",
       "    </tr>\n",
       "  </tbody>\n",
       "</table>\n",
       "</div>"
      ],
      "text/plain": [
       "                                               table_id  col_idx    class  \\\n",
       "3400  webtables1/K0/0_1438042986022.41;warc;CC-MAIN-...        0  country   \n",
       "\n",
       "      class_id                                               data  \n",
       "3400        22  United States — Alabama — Alaska — Arizona — A...  "
      ]
     },
     "execution_count": 199,
     "metadata": {},
     "output_type": "execute_result"
    }
   ],
   "source": [
    "group_df"
   ]
  },
  {
   "cell_type": "code",
   "execution_count": 196,
   "metadata": {},
   "outputs": [
    {
     "data": {
      "text/html": [
       "<div>\n",
       "<style scoped>\n",
       "    .dataframe tbody tr th:only-of-type {\n",
       "        vertical-align: middle;\n",
       "    }\n",
       "\n",
       "    .dataframe tbody tr th {\n",
       "        vertical-align: top;\n",
       "    }\n",
       "\n",
       "    .dataframe thead th {\n",
       "        text-align: right;\n",
       "    }\n",
       "</style>\n",
       "<table border=\"1\" class=\"dataframe\">\n",
       "  <thead>\n",
       "    <tr style=\"text-align: right;\">\n",
       "      <th></th>\n",
       "      <th>table_id</th>\n",
       "      <th>col_idx</th>\n",
       "      <th>class</th>\n",
       "      <th>class_id</th>\n",
       "      <th>data</th>\n",
       "    </tr>\n",
       "  </thead>\n",
       "  <tbody>\n",
       "    <tr>\n",
       "      <th>5</th>\n",
       "      <td>webtables1/K0/0_1438042986022.41;warc;CC-MAIN-...</td>\n",
       "      <td>0</td>\n",
       "      <td>status</td>\n",
       "      <td>71</td>\n",
       "      <td>WIP OK WIP OK WIP WIP WIP OK... OK WIP WIP WIP...</td>\n",
       "    </tr>\n",
       "    <tr>\n",
       "      <th>28</th>\n",
       "      <td>webtables1/K0/0_1438042986022.41;warc;CC-MAIN-...</td>\n",
       "      <td>2</td>\n",
       "      <td>status</td>\n",
       "      <td>71</td>\n",
       "      <td>Final Final/11 Final Final Final Final Final F...</td>\n",
       "    </tr>\n",
       "    <tr>\n",
       "      <th>78</th>\n",
       "      <td>webtables1/K0/0_1438042986022.41;warc;CC-MAIN-...</td>\n",
       "      <td>0</td>\n",
       "      <td>status</td>\n",
       "      <td>71</td>\n",
       "      <td>TO DO TO DO TO DO TO DO TO DO IN PROGRESS IN P...</td>\n",
       "    </tr>\n",
       "    <tr>\n",
       "      <th>83</th>\n",
       "      <td>webtables1/K0/0_1438042986022.41;warc;CC-MAIN-...</td>\n",
       "      <td>1</td>\n",
       "      <td>status</td>\n",
       "      <td>71</td>\n",
       "      <td>lead lead</td>\n",
       "    </tr>\n",
       "    <tr>\n",
       "      <th>87</th>\n",
       "      <td>webtables1/K0/0_1438042986022.41;warc;CC-MAIN-...</td>\n",
       "      <td>2</td>\n",
       "      <td>status</td>\n",
       "      <td>71</td>\n",
       "      <td>Unavailable Unavailable</td>\n",
       "    </tr>\n",
       "    <tr>\n",
       "      <th>...</th>\n",
       "      <td>...</td>\n",
       "      <td>...</td>\n",
       "      <td>...</td>\n",
       "      <td>...</td>\n",
       "      <td>...</td>\n",
       "    </tr>\n",
       "    <tr>\n",
       "      <th>23700</th>\n",
       "      <td>webtables2/K4/0_1438042987171.38;warc;CC-MAIN-...</td>\n",
       "      <td>0</td>\n",
       "      <td>status</td>\n",
       "      <td>71</td>\n",
       "      <td>WAITING ONSCENE DISPATCHED ONSCENE DISPATCHED ...</td>\n",
       "    </tr>\n",
       "    <tr>\n",
       "      <th>23739</th>\n",
       "      <td>webtables2/K4/0_1438042987171.38;warc;CC-MAIN-...</td>\n",
       "      <td>0</td>\n",
       "      <td>status</td>\n",
       "      <td>71</td>\n",
       "      <td>Introduced Passed Vetoed</td>\n",
       "    </tr>\n",
       "    <tr>\n",
       "      <th>23785</th>\n",
       "      <td>webtables2/K4/0_1438042987171.38;warc;CC-MAIN-...</td>\n",
       "      <td>1</td>\n",
       "      <td>status</td>\n",
       "      <td>71</td>\n",
       "      <td>Full Unavailable</td>\n",
       "    </tr>\n",
       "    <tr>\n",
       "      <th>23791</th>\n",
       "      <td>webtables2/K4/0_1438042987171.38;warc;CC-MAIN-...</td>\n",
       "      <td>2</td>\n",
       "      <td>status</td>\n",
       "      <td>71</td>\n",
       "      <td>Unavailable Unavailable</td>\n",
       "    </tr>\n",
       "    <tr>\n",
       "      <th>23946</th>\n",
       "      <td>webtables2/K4/0_1438042987171.38;warc;CC-MAIN-...</td>\n",
       "      <td>3</td>\n",
       "      <td>status</td>\n",
       "      <td>71</td>\n",
       "      <td>assigned new new new new new</td>\n",
       "    </tr>\n",
       "  </tbody>\n",
       "</table>\n",
       "<p>4771 rows × 5 columns</p>\n",
       "</div>"
      ],
      "text/plain": [
       "                                                table_id  col_idx   class  \\\n",
       "5      webtables1/K0/0_1438042986022.41;warc;CC-MAIN-...        0  status   \n",
       "28     webtables1/K0/0_1438042986022.41;warc;CC-MAIN-...        2  status   \n",
       "78     webtables1/K0/0_1438042986022.41;warc;CC-MAIN-...        0  status   \n",
       "83     webtables1/K0/0_1438042986022.41;warc;CC-MAIN-...        1  status   \n",
       "87     webtables1/K0/0_1438042986022.41;warc;CC-MAIN-...        2  status   \n",
       "...                                                  ...      ...     ...   \n",
       "23700  webtables2/K4/0_1438042987171.38;warc;CC-MAIN-...        0  status   \n",
       "23739  webtables2/K4/0_1438042987171.38;warc;CC-MAIN-...        0  status   \n",
       "23785  webtables2/K4/0_1438042987171.38;warc;CC-MAIN-...        1  status   \n",
       "23791  webtables2/K4/0_1438042987171.38;warc;CC-MAIN-...        2  status   \n",
       "23946  webtables2/K4/0_1438042987171.38;warc;CC-MAIN-...        3  status   \n",
       "\n",
       "       class_id                                               data  \n",
       "5            71  WIP OK WIP OK WIP WIP WIP OK... OK WIP WIP WIP...  \n",
       "28           71  Final Final/11 Final Final Final Final Final F...  \n",
       "78           71  TO DO TO DO TO DO TO DO TO DO IN PROGRESS IN P...  \n",
       "83           71                                          lead lead  \n",
       "87           71                            Unavailable Unavailable  \n",
       "...         ...                                                ...  \n",
       "23700        71  WAITING ONSCENE DISPATCHED ONSCENE DISPATCHED ...  \n",
       "23739        71                           Introduced Passed Vetoed  \n",
       "23785        71                                   Full Unavailable  \n",
       "23791        71                            Unavailable Unavailable  \n",
       "23946        71                       assigned new new new new new  \n",
       "\n",
       "[4771 rows x 5 columns]"
      ]
     },
     "execution_count": 196,
     "metadata": {},
     "output_type": "execute_result"
    }
   ],
   "source": [
    "df[df['class'] == 'status']"
   ]
  },
  {
   "cell_type": "code",
   "execution_count": 195,
   "metadata": {},
   "outputs": [
    {
     "data": {
      "text/html": [
       "<div>\n",
       "<style scoped>\n",
       "    .dataframe tbody tr th:only-of-type {\n",
       "        vertical-align: middle;\n",
       "    }\n",
       "\n",
       "    .dataframe tbody tr th {\n",
       "        vertical-align: top;\n",
       "    }\n",
       "\n",
       "    .dataframe thead th {\n",
       "        text-align: right;\n",
       "    }\n",
       "</style>\n",
       "<table border=\"1\" class=\"dataframe\">\n",
       "  <thead>\n",
       "    <tr style=\"text-align: right;\">\n",
       "      <th></th>\n",
       "      <th>table_id</th>\n",
       "      <th>col_idx</th>\n",
       "      <th>class</th>\n",
       "      <th>class_id</th>\n",
       "      <th>data</th>\n",
       "    </tr>\n",
       "  </thead>\n",
       "  <tbody>\n",
       "    <tr>\n",
       "      <th>773</th>\n",
       "      <td>webtables1/K0/0_1438042986022.41;warc;CC-MAIN-...</td>\n",
       "      <td>0</td>\n",
       "      <td>affiliate</td>\n",
       "      <td>1</td>\n",
       "      <td>Republican Party of Indiana Right to Life</td>\n",
       "    </tr>\n",
       "    <tr>\n",
       "      <th>2979</th>\n",
       "      <td>webtables1/K0/0_1438042986022.41;warc;CC-MAIN-...</td>\n",
       "      <td>0</td>\n",
       "      <td>affiliate</td>\n",
       "      <td>1</td>\n",
       "      <td>Right to Life Right to Life</td>\n",
       "    </tr>\n",
       "    <tr>\n",
       "      <th>5427</th>\n",
       "      <td>webtables1/K0/0_1438042986022.41;warc;CC-MAIN-...</td>\n",
       "      <td>0</td>\n",
       "      <td>affiliate</td>\n",
       "      <td>1</td>\n",
       "      <td>Charles E. Schumer (D-NY)</td>\n",
       "    </tr>\n",
       "    <tr>\n",
       "      <th>8810</th>\n",
       "      <td>webtables1/K0/0_1438042986022.41;warc;CC-MAIN-...</td>\n",
       "      <td>0</td>\n",
       "      <td>affiliate</td>\n",
       "      <td>1</td>\n",
       "      <td>Harry Reid (D-Nev) Tom Udall (D-NM) Mark Udall...</td>\n",
       "    </tr>\n",
       "    <tr>\n",
       "      <th>23569</th>\n",
       "      <td>webtables2/K0/0_1438042987171.38;warc;CC-MAIN-...</td>\n",
       "      <td>0</td>\n",
       "      <td>affiliate</td>\n",
       "      <td>1</td>\n",
       "      <td>Right to Life</td>\n",
       "    </tr>\n",
       "    <tr>\n",
       "      <th>5191</th>\n",
       "      <td>webtables1/K1/0_1438042986022.41;warc;CC-MAIN-...</td>\n",
       "      <td>0</td>\n",
       "      <td>affiliate</td>\n",
       "      <td>1</td>\n",
       "      <td>WPBT WFOR WTVJ WSVN WGEN WPLG WLRN WSBS WLTV W...</td>\n",
       "    </tr>\n",
       "    <tr>\n",
       "      <th>8594</th>\n",
       "      <td>webtables1/K1/0_1438042986022.41;warc;CC-MAIN-...</td>\n",
       "      <td>0</td>\n",
       "      <td>affiliate</td>\n",
       "      <td>1</td>\n",
       "      <td>Sonnenschein, Nath &amp; Rosenthal Sonnenschein, N...</td>\n",
       "    </tr>\n",
       "    <tr>\n",
       "      <th>8657</th>\n",
       "      <td>webtables1/K1/0_1438042986022.41;warc;CC-MAIN-...</td>\n",
       "      <td>0</td>\n",
       "      <td>affiliate</td>\n",
       "      <td>1</td>\n",
       "      <td>Alabama Rural Electric Assn Idaho ACRE Indiana...</td>\n",
       "    </tr>\n",
       "    <tr>\n",
       "      <th>22813</th>\n",
       "      <td>webtables2/K1/0_1438042987171.38;warc;CC-MAIN-...</td>\n",
       "      <td>0</td>\n",
       "      <td>affiliate</td>\n",
       "      <td>1</td>\n",
       "      <td>Plumbers/Pipefitters Union National Rifle Assn</td>\n",
       "    </tr>\n",
       "    <tr>\n",
       "      <th>4104</th>\n",
       "      <td>webtables1/K2/0_1438042986022.41;warc;CC-MAIN-...</td>\n",
       "      <td>0</td>\n",
       "      <td>affiliate</td>\n",
       "      <td>1</td>\n",
       "      <td>League of Conservation Voters National Educati...</td>\n",
       "    </tr>\n",
       "    <tr>\n",
       "      <th>12820</th>\n",
       "      <td>webtables2/K2/0_1438042987171.38;warc;CC-MAIN-...</td>\n",
       "      <td>0</td>\n",
       "      <td>affiliate</td>\n",
       "      <td>1</td>\n",
       "      <td>WHAM WROC CW WUHF WHEC WXXI</td>\n",
       "    </tr>\n",
       "    <tr>\n",
       "      <th>15206</th>\n",
       "      <td>webtables2/K2/0_1438042987171.38;warc;CC-MAIN-...</td>\n",
       "      <td>0</td>\n",
       "      <td>affiliate</td>\n",
       "      <td>1</td>\n",
       "      <td>National Rifle Assn</td>\n",
       "    </tr>\n",
       "    <tr>\n",
       "      <th>18314</th>\n",
       "      <td>webtables2/K2/0_1438042987171.38;warc;CC-MAIN-...</td>\n",
       "      <td>0</td>\n",
       "      <td>affiliate</td>\n",
       "      <td>1</td>\n",
       "      <td>Incapital LLC</td>\n",
       "    </tr>\n",
       "    <tr>\n",
       "      <th>20522</th>\n",
       "      <td>webtables2/K2/0_1438042987171.38;warc;CC-MAIN-...</td>\n",
       "      <td>0</td>\n",
       "      <td>affiliate</td>\n",
       "      <td>1</td>\n",
       "      <td>Steny H. Hoyer (D-Md) Patrick Leahy (D-Vt)</td>\n",
       "    </tr>\n",
       "    <tr>\n",
       "      <th>21877</th>\n",
       "      <td>webtables2/K2/0_1438042987171.38;warc;CC-MAIN-...</td>\n",
       "      <td>0</td>\n",
       "      <td>affiliate</td>\n",
       "      <td>1</td>\n",
       "      <td>Brett Guthrie (R-Ky) Jim DeMint (R-SC) Greg Wa...</td>\n",
       "    </tr>\n",
       "    <tr>\n",
       "      <th>1301</th>\n",
       "      <td>webtables1/K3/0_1438042986022.41;warc;CC-MAIN-...</td>\n",
       "      <td>0</td>\n",
       "      <td>affiliate</td>\n",
       "      <td>1</td>\n",
       "      <td>Carpenters &amp; Joiners Union Humane Society of t...</td>\n",
       "    </tr>\n",
       "    <tr>\n",
       "      <th>10565</th>\n",
       "      <td>webtables1/K3/0_1438042986022.41;warc;CC-MAIN-...</td>\n",
       "      <td>1</td>\n",
       "      <td>affiliate</td>\n",
       "      <td>1</td>\n",
       "      <td>Neetirajsinh Chhasatia http://neetirajsinh.co....</td>\n",
       "    </tr>\n",
       "    <tr>\n",
       "      <th>13930</th>\n",
       "      <td>webtables2/K3/0_1438042987171.38;warc;CC-MAIN-...</td>\n",
       "      <td>0</td>\n",
       "      <td>affiliate</td>\n",
       "      <td>1</td>\n",
       "      <td>Rodney Frelinghuysen (R-NJ) Hal Rogers (R-Ky) ...</td>\n",
       "    </tr>\n",
       "    <tr>\n",
       "      <th>14246</th>\n",
       "      <td>webtables2/K3/0_1438042987171.38;warc;CC-MAIN-...</td>\n",
       "      <td>0</td>\n",
       "      <td>affiliate</td>\n",
       "      <td>1</td>\n",
       "      <td>PNC Financial Services PNC Financial Services ...</td>\n",
       "    </tr>\n",
       "    <tr>\n",
       "      <th>18393</th>\n",
       "      <td>webtables2/K3/0_1438042987171.38;warc;CC-MAIN-...</td>\n",
       "      <td>0</td>\n",
       "      <td>affiliate</td>\n",
       "      <td>1</td>\n",
       "      <td>US Anti-Doping Agency</td>\n",
       "    </tr>\n",
       "    <tr>\n",
       "      <th>23022</th>\n",
       "      <td>webtables2/K3/0_1438042987171.38;warc;CC-MAIN-...</td>\n",
       "      <td>0</td>\n",
       "      <td>affiliate</td>\n",
       "      <td>1</td>\n",
       "      <td>WEAR WKRG WALA WPMI WSRE WJTC WBPG</td>\n",
       "    </tr>\n",
       "    <tr>\n",
       "      <th>3891</th>\n",
       "      <td>webtables1/K4/0_1438042986022.41;warc;CC-MAIN-...</td>\n",
       "      <td>0</td>\n",
       "      <td>affiliate</td>\n",
       "      <td>1</td>\n",
       "      <td>Blanche Lincoln (D-Ark)</td>\n",
       "    </tr>\n",
       "    <tr>\n",
       "      <th>10329</th>\n",
       "      <td>webtables1/K4/0_1438042986022.41;warc;CC-MAIN-...</td>\n",
       "      <td>0</td>\n",
       "      <td>affiliate</td>\n",
       "      <td>1</td>\n",
       "      <td>Select Medical Corp Select Medical Corp Select...</td>\n",
       "    </tr>\n",
       "    <tr>\n",
       "      <th>11990</th>\n",
       "      <td>webtables2/K4/0_1438042987171.38;warc;CC-MAIN-...</td>\n",
       "      <td>0</td>\n",
       "      <td>affiliate</td>\n",
       "      <td>1</td>\n",
       "      <td>Timmons &amp; Co Timmons &amp; Co Wexler &amp; Walker Publ...</td>\n",
       "    </tr>\n",
       "    <tr>\n",
       "      <th>16449</th>\n",
       "      <td>webtables2/K4/0_1438042987171.38;warc;CC-MAIN-...</td>\n",
       "      <td>0</td>\n",
       "      <td>affiliate</td>\n",
       "      <td>1</td>\n",
       "      <td>Right to Life National Rifle Assn Right to Life</td>\n",
       "    </tr>\n",
       "    <tr>\n",
       "      <th>23853</th>\n",
       "      <td>webtables2/K4/0_1438042987171.38;warc;CC-MAIN-...</td>\n",
       "      <td>0</td>\n",
       "      <td>affiliate</td>\n",
       "      <td>1</td>\n",
       "      <td>Environmental Defense Fund Everytown for Gun S...</td>\n",
       "    </tr>\n",
       "  </tbody>\n",
       "</table>\n",
       "</div>"
      ],
      "text/plain": [
       "                                                table_id  col_idx      class  \\\n",
       "773    webtables1/K0/0_1438042986022.41;warc;CC-MAIN-...        0  affiliate   \n",
       "2979   webtables1/K0/0_1438042986022.41;warc;CC-MAIN-...        0  affiliate   \n",
       "5427   webtables1/K0/0_1438042986022.41;warc;CC-MAIN-...        0  affiliate   \n",
       "8810   webtables1/K0/0_1438042986022.41;warc;CC-MAIN-...        0  affiliate   \n",
       "23569  webtables2/K0/0_1438042987171.38;warc;CC-MAIN-...        0  affiliate   \n",
       "5191   webtables1/K1/0_1438042986022.41;warc;CC-MAIN-...        0  affiliate   \n",
       "8594   webtables1/K1/0_1438042986022.41;warc;CC-MAIN-...        0  affiliate   \n",
       "8657   webtables1/K1/0_1438042986022.41;warc;CC-MAIN-...        0  affiliate   \n",
       "22813  webtables2/K1/0_1438042987171.38;warc;CC-MAIN-...        0  affiliate   \n",
       "4104   webtables1/K2/0_1438042986022.41;warc;CC-MAIN-...        0  affiliate   \n",
       "12820  webtables2/K2/0_1438042987171.38;warc;CC-MAIN-...        0  affiliate   \n",
       "15206  webtables2/K2/0_1438042987171.38;warc;CC-MAIN-...        0  affiliate   \n",
       "18314  webtables2/K2/0_1438042987171.38;warc;CC-MAIN-...        0  affiliate   \n",
       "20522  webtables2/K2/0_1438042987171.38;warc;CC-MAIN-...        0  affiliate   \n",
       "21877  webtables2/K2/0_1438042987171.38;warc;CC-MAIN-...        0  affiliate   \n",
       "1301   webtables1/K3/0_1438042986022.41;warc;CC-MAIN-...        0  affiliate   \n",
       "10565  webtables1/K3/0_1438042986022.41;warc;CC-MAIN-...        1  affiliate   \n",
       "13930  webtables2/K3/0_1438042987171.38;warc;CC-MAIN-...        0  affiliate   \n",
       "14246  webtables2/K3/0_1438042987171.38;warc;CC-MAIN-...        0  affiliate   \n",
       "18393  webtables2/K3/0_1438042987171.38;warc;CC-MAIN-...        0  affiliate   \n",
       "23022  webtables2/K3/0_1438042987171.38;warc;CC-MAIN-...        0  affiliate   \n",
       "3891   webtables1/K4/0_1438042986022.41;warc;CC-MAIN-...        0  affiliate   \n",
       "10329  webtables1/K4/0_1438042986022.41;warc;CC-MAIN-...        0  affiliate   \n",
       "11990  webtables2/K4/0_1438042987171.38;warc;CC-MAIN-...        0  affiliate   \n",
       "16449  webtables2/K4/0_1438042987171.38;warc;CC-MAIN-...        0  affiliate   \n",
       "23853  webtables2/K4/0_1438042987171.38;warc;CC-MAIN-...        0  affiliate   \n",
       "\n",
       "       class_id                                               data  \n",
       "773           1          Republican Party of Indiana Right to Life  \n",
       "2979          1                        Right to Life Right to Life  \n",
       "5427          1                          Charles E. Schumer (D-NY)  \n",
       "8810          1  Harry Reid (D-Nev) Tom Udall (D-NM) Mark Udall...  \n",
       "23569         1                                      Right to Life  \n",
       "5191          1  WPBT WFOR WTVJ WSVN WGEN WPLG WLRN WSBS WLTV W...  \n",
       "8594          1  Sonnenschein, Nath & Rosenthal Sonnenschein, N...  \n",
       "8657          1  Alabama Rural Electric Assn Idaho ACRE Indiana...  \n",
       "22813         1     Plumbers/Pipefitters Union National Rifle Assn  \n",
       "4104          1  League of Conservation Voters National Educati...  \n",
       "12820         1                        WHAM WROC CW WUHF WHEC WXXI  \n",
       "15206         1                                National Rifle Assn  \n",
       "18314         1                                      Incapital LLC  \n",
       "20522         1         Steny H. Hoyer (D-Md) Patrick Leahy (D-Vt)  \n",
       "21877         1  Brett Guthrie (R-Ky) Jim DeMint (R-SC) Greg Wa...  \n",
       "1301          1  Carpenters & Joiners Union Humane Society of t...  \n",
       "10565         1  Neetirajsinh Chhasatia http://neetirajsinh.co....  \n",
       "13930         1  Rodney Frelinghuysen (R-NJ) Hal Rogers (R-Ky) ...  \n",
       "14246         1  PNC Financial Services PNC Financial Services ...  \n",
       "18393         1                              US Anti-Doping Agency  \n",
       "23022         1                 WEAR WKRG WALA WPMI WSRE WJTC WBPG  \n",
       "3891          1                            Blanche Lincoln (D-Ark)  \n",
       "10329         1  Select Medical Corp Select Medical Corp Select...  \n",
       "11990         1  Timmons & Co Timmons & Co Wexler & Walker Publ...  \n",
       "16449         1    Right to Life National Rifle Assn Right to Life  \n",
       "23853         1  Environmental Defense Fund Everytown for Gun S...  "
      ]
     },
     "execution_count": 195,
     "metadata": {},
     "output_type": "execute_result"
    }
   ],
   "source": [
    "df[df['class'] == 'affiliate']"
   ]
  },
  {
   "cell_type": "code",
   "execution_count": 230,
   "metadata": {},
   "outputs": [
    {
     "data": {
      "text/plain": [
       "20"
      ]
     },
     "execution_count": 230,
     "metadata": {},
     "output_type": "execute_result"
    }
   ],
   "source": [
    "(class_f1<0.8).sum()"
   ]
  },
  {
   "cell_type": "code",
   "execution_count": null,
   "metadata": {},
   "outputs": [],
   "source": [
    "(class_f1<0.8)"
   ]
  },
  {
   "cell_type": "code",
   "execution_count": 231,
   "metadata": {},
   "outputs": [
    {
     "name": "stdout",
     "output_type": "stream",
     "text": [
      "********************************************\n",
      "affiliate 0.000217828418230563 0.6\n",
      "affiliate 3\n",
      "status 2\n",
      "********************************************\n",
      "area 0.0023709785522788205 0.7454545454545455\n",
      "area 41\n",
      "city 2\n",
      "class 2\n",
      "code 1\n",
      "company 1\n",
      "location 2\n",
      "position 2\n",
      "rank 1\n",
      "team 1\n",
      "weight 2\n",
      "********************************************\n",
      "brand 0.001164544235924933 0.5666666666666665\n",
      "artist 2\n",
      "brand 17\n",
      "company 1\n",
      "country 1\n",
      "description 1\n",
      "name 1\n",
      "symbol 1\n",
      "team 1\n",
      "teamName 1\n",
      "type 3\n",
      "********************************************\n",
      "capacity 0.00046079088471849864 0.6923076923076923\n",
      "address 1\n",
      "capacity 9\n",
      "company 1\n",
      "description 1\n",
      "year 1\n",
      "********************************************\n",
      "classification 0.0008294235924932976 0.7586206896551724\n",
      "category 2\n",
      "classification 11\n",
      "location 1\n",
      "name 1\n",
      "type 1\n",
      "********************************************\n",
      "command 0.0006786193029490617 0.6363636363636364\n",
      "album 1\n",
      "command 7\n",
      "description 1\n",
      "name 1\n",
      "type 1\n",
      "********************************************\n",
      "component 0.0014242627345844505 0.6969696969696969\n",
      "code 1\n",
      "component 23\n",
      "description 5\n",
      "name 1\n",
      "product 3\n",
      "type 2\n",
      "********************************************\n",
      "creator 0.0003267426273458445 0.5714285714285714\n",
      "company 1\n",
      "creator 4\n",
      "jockey 1\n",
      "name 2\n",
      "owner 1\n",
      "********************************************\n",
      "director 0.0002764745308310992 0.3333333333333333\n",
      "director 1\n",
      "name 3\n",
      "********************************************\n",
      "genre 0.0013404825737265416 0.7924528301886793\n",
      "artist 2\n",
      "category 1\n",
      "credit 1\n",
      "genre 21\n",
      "location 3\n",
      "name 1\n",
      "type 1\n",
      "********************************************\n",
      "manufacturer 0.0012734584450402144 0.6206896551724138\n",
      "artist 2\n",
      "brand 3\n",
      "company 3\n",
      "description 1\n",
      "language 1\n",
      "location 2\n",
      "manufacturer 18\n",
      "name 2\n",
      "owner 1\n",
      "********************************************\n",
      "nationality 0.0006199731903485255 0.7894736842105262\n",
      "city 1\n",
      "country 2\n",
      "nationality 15\n",
      "********************************************\n",
      "operator 0.0003267426273458445 0.6666666666666666\n",
      "address 1\n",
      "name 1\n",
      "operator 4\n",
      "********************************************\n",
      "person 0.00030160857908847187 0.3333333333333333\n",
      "name 4\n",
      "person 2\n",
      "weight 1\n",
      "********************************************\n",
      "product 0.0031082439678284182 0.7297297297297296\n",
      "album 1\n",
      "area 1\n",
      "category 2\n",
      "class 1\n",
      "code 1\n",
      "component 1\n",
      "description 4\n",
      "elevation 1\n",
      "fileSize 1\n",
      "industry 1\n",
      "name 4\n",
      "position 1\n",
      "product 54\n",
      "rank 1\n",
      "type 1\n",
      "********************************************\n",
      "range 0.0005697050938337802 0.47058823529411764\n",
      "capacity 1\n",
      "duration 1\n",
      "gender 1\n",
      "range 4\n",
      "result 1\n",
      "********************************************\n",
      "ranking 0.00046079088471849864 0.2222222222222222\n",
      "class 1\n",
      "order 1\n",
      "position 2\n",
      "range 1\n",
      "rank 4\n",
      "ranking 2\n",
      "weight 1\n",
      "********************************************\n",
      "region 0.0027228552278820376 0.748201438848921\n",
      "area 1\n",
      "city 5\n",
      "country 1\n",
      "duration 1\n",
      "location 4\n",
      "name 1\n",
      "plays 1\n",
      "rank 1\n",
      "region 52\n",
      "state 1\n",
      "team 1\n",
      "********************************************\n",
      "requirement 0.00029323056300268094 0.5\n",
      "brand 1\n",
      "description 3\n",
      "requirement 3\n",
      "team 1\n",
      "********************************************\n",
      "species 0.0006786193029490617 0.7586206896551724\n",
      "brand 1\n",
      "code 1\n",
      "name 3\n",
      "species 11\n"
     ]
    }
   ],
   "source": [
    "for i in np.nonzero(class_f1<0.8)[0]:\n",
    "    print(\"********************************************\")\n",
    "    print(sato_coltypes[i], class_freq[i], class_f1[i])\n",
    "    for j in np.nonzero(cfm[i]>0)[0]:\n",
    "        print(sato_coltypes[j], cfm[i][j])"
   ]
  },
  {
   "cell_type": "code",
   "execution_count": null,
   "metadata": {},
   "outputs": [],
   "source": [
    "/data/zhihao/TU/doduo/model/sato0_mosato_bert_bert-base-uncased-bs16-ml-32__msato0-1.00_best_loss.pt"
   ]
  },
  {
   "cell_type": "code",
   "execution_count": null,
   "metadata": {},
   "outputs": [],
   "source": [
    "sato0_mosato_bert_bert-base-uncased-bs16-ml-32__sato0-1.00_best_loss.pt"
   ]
  },
  {
   "cell_type": "code",
   "execution_count": null,
   "metadata": {},
   "outputs": [],
   "source": [
    "torch"
   ]
  }
 ],
 "metadata": {
  "kernelspec": {
   "display_name": "jupyter",
   "language": "python",
   "name": "python3"
  },
  "language_info": {
   "codemirror_mode": {
    "name": "ipython",
    "version": 3
   },
   "file_extension": ".py",
   "mimetype": "text/x-python",
   "name": "python",
   "nbconvert_exporter": "python",
   "pygments_lexer": "ipython3",
   "version": "3.8.10"
  }
 },
 "nbformat": 4,
 "nbformat_minor": 2
}
